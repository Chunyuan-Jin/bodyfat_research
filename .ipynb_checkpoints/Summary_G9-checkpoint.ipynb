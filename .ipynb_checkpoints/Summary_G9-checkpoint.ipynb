{
 "cells": [
  {
   "cell_type": "markdown",
   "metadata": {},
   "source": [
    "# Introduction\n",
    "\n",
    "\n",
    "## Background\n",
    "\n",
    "<p> Body fat percentage is a measure of fitness level, which is not easy to obtain during clinical application. A popular way to estimate the body fat is by using the Siri's equation. However, body density is also hard to obtain. \n",
    "    \n",
    "<p> This project aims to come up with a simple, robust, accurate and precise “rule-of-thumb” method to estimate percentage of body fat using clinically available measurements.\n",
    "\n",
    "## Description of Dataset\n",
    "\n",
    "\n",
    "### Formula\n",
    "\n",
    "<p> The Siri's equation for estimating the **body fat B(%)** is\n",
    "\n",
    " $$ Body\\ Fat\\ \\%\\ (i.e. 100 \\times B) = \\frac{495}{D} - 450,\\ D = Body\\ Density\\ (gm/cm^{3})$$ \n",
    " \n",
    "\n",
    "<p> The formula for estimating **ADIPOSITY (BMI)** is\n",
    " \n",
    "$$ADIPOSITY\\ (BMI)= \\frac{Weight\\ (lbs) \\times 703}{[Height\\ (inch)]^2}$$"
   ]
  },
  {
   "cell_type": "markdown",
   "metadata": {},
   "source": [
    "### Overview of the dataset"
   ]
  },
  {
   "cell_type": "markdown",
   "metadata": {},
   "source": [
    "We have **252** observations and **17** variables, their units are given in the parenthesis.\n",
    " \n",
    "* Response variable: Body fat in percentage\n",
    "* Predictors: Age (years), Weight (lbs), Height (inches), Adiposity (bmi), Neck circumference (cm), Chest circumference (cm), Abdomen circumference (cm), Hip circumference (cm), Thigh circumference (cm), Knee circumference (cm), Ankle circumference (cm), Biceps (extended) circumference (cm), Forearm circumference (cm), Wrist circumference (cm)"
   ]
  },
  {
   "cell_type": "markdown",
   "metadata": {},
   "source": [
    "# Data Cleaning\n",
    "\n",
    "Our data cleaning process follows these criteria:\n",
    "\n",
    "1. Impute those variables which have abnormal values and can be fixed with their redundant variable.\n",
    "2. Filter out records which are abnormal and cannot be fixed.\n",
    "\n",
    "## Use Summary Table to Check Extreme Values\n",
    "\n",
    "We use the summary table to get an overview of the data. What surprises us is the extreme values in some variables"
   ]
  },
  {
   "cell_type": "markdown",
   "metadata": {},
   "source": [
    "From the summary table, we can see there exist extreme values in the some variables.\n",
    "\n",
    "<img src=\"plots/summary.png\" alt=\"Drawing\" style=\"width: 500px;\"/>\n",
    "\n",
    "The observations that have extreme values are \n",
    "\n",
    "<img src=\"plots/data1.png\" alt=\"Drawing\" style=\"width: 750px;\"/>"
   ]
  },
  {
   "cell_type": "markdown",
   "metadata": {},
   "source": [
    "**BODYFAT** is the response variable whose reasonable value ranges from 2% to 39%. \n",
    "Individual 172 has lowest possible body fat, which can be considered as essential fat;\n",
    "Individual 216 is sever obesity, which is possible;\n",
    "Individual 182, it's impossible to have 0% of bodyfat, and after checking the siri's equation to his density, the corresponding bodyfat becomes negative, thus we filter this records out of our analysis.\n",
    "\n",
    "There also exists extreme value in **WEIGHT**, which occurs in individual 39. This man also has the largest value in  ADIPOSITY, NECK, CHEST, ABDOMEN, HIP, THIGH, KNEE, BICEPS, and WRIST. Which indicates that this record does exist.\n",
    "\n",
    "As for **HEIGHT**, individual 42's height is only 29.5 which is quite abnormal. After checking the corresponding weight by BMI formula, we can assume that this is a wrong record. Thus we fix his height by applying the BMI formula."
   ]
  },
  {
   "cell_type": "markdown",
   "metadata": {},
   "source": [
    "\n",
    "## Check Siri's Equation\n",
    "\n",
    "Known that the body fat percentage can be estimated by the density with the Siri's equation. We build a linear model between the bodyfat percentage estimated by Siri's equation and the bodyfat percentage in the data set. The residual plot and the QQ plot of this model is shown below. We can see that record 48, 76, 96 are possible outliers. \n",
    "\n",
    "<img src=\"plots/data2_1.png\" alt=\"Drawing\" style=\"width: 750px;\"/>"
   ]
  },
  {
   "cell_type": "markdown",
   "metadata": {},
   "source": [
    "Individual 96's other variables all have normal value, which indicates his desity might be wrongly recorded.\n",
    "\n",
    "Individual 48 and 76 have similar values in other variables, thus their body fat percentage should also be similar. Thus we use the Siri's equation to fix their body fat percentage."
   ]
  },
  {
   "cell_type": "markdown",
   "metadata": {},
   "source": [
    "## Check the BMI Formula\n",
    "\n",
    "Known that the ADIPOSITY can be estimated using WEIGHT and HEIGHT. We build a linear model between the BMI estimated by equation and the ADIPOSITY in the data set. The residual plot and the QQ plot of this model is shown below. We can see that record 163, 220, 234 are possible outliers.\n",
    "\n",
    "<img src=\"plots/data3_1.png\" alt=\"Drawing\" style=\"width: 750px;\"/>"
   ]
  },
  {
   "cell_type": "markdown",
   "metadata": {},
   "source": [
    "For individual 163, 220, and 234, their weights vary a lot, which means their BMI should not be similar to each other. Thus we adopt the calculated BMI as their ADIPOSITY."
   ]
  },
  {
   "cell_type": "markdown",
   "metadata": {},
   "source": [
    "## Data cleaning summary\n",
    " \n",
    "In conclusion:\n",
    "    \n",
    "Record **182** is filtered out because it has 0 body fat and there's no way to fix that.\n",
    "    \n",
    "The HEIGHT of record **42** is fixed according to the weight and adiposity.\n",
    "    \n",
    "The body fat of record **48** and **76** are fixed according to the density.\n",
    "    \n",
    "The adiposity of record **163**, **220**, and **234** are fixed according to the weight and height."
   ]
  },
  {
   "cell_type": "markdown",
   "metadata": {},
   "source": [
    "# Variable Selection and Statistical Modeling\n",
    "\n",
    "## Variable Selection \n",
    "### Stepwise Backward and Forward LR\n",
    "Considering there is a tradeoff between model variance and accuracy, we'd better not use all 14 predictors to establish the model. Although the mean square of error (MSE) will be small, the model itself will be unstable. Firstly, we try normal linear regression using the stepwise method to select features. We chose BIC as criterions and directions of forward and backward. The result was shown respectively."
   ]
  },
  {
   "cell_type": "code",
   "execution_count": 1,
   "metadata": {},
   "outputs": [
    {
     "data": {
      "text/plain": [
       "\n",
       "Call:\n",
       "lm(formula = BODYFAT ~ ABDOMEN + WEIGHT + WRIST + FOREARM, data = BodyFatData[, \n",
       "    c(2, 4:17)])\n",
       "\n",
       "Coefficients:\n",
       "(Intercept)      ABDOMEN       WEIGHT        WRIST      FOREARM  \n",
       "   -29.9235       0.9133      -0.1238      -1.4082       0.4253  \n"
      ]
     },
     "metadata": {},
     "output_type": "display_data"
    }
   ],
   "source": [
    "BodyFatData <-read.csv(\"data/CleanData.csv\")\n",
    "library(MASS)\n",
    "base=lm(BODYFAT~1,data=BodyFatData[, c(2,4:17)])\n",
    "full<-lm(BODYFAT~.,data=BodyFatData[, c(2,4:17)])#  use forward stepwise method with BIC, and select four variables in linear regression \n",
    "stepAIC(base,scope=list(lower=~1,upper=full),direction = \"forward\",k=log(249),trace = F)"
   ]
  },
  {
   "cell_type": "markdown",
   "metadata": {},
   "source": [
    "The results of backward and forward method are the same, WEIGHT, ABDOMEN, FOREARM, WRIST were chosen as predictors and they are all significant. R-square of the model is 0.736, which indicates the accuracy of the model is quite good.  However,  in the linear model, colinearity of predictors will increase the variance of model. VIF is a value to identify colinearity. There are colineary between variables if VIF is larger than 5."
   ]
  },
  {
   "cell_type": "code",
   "execution_count": 3,
   "metadata": {},
   "outputs": [
    {
     "data": {
      "text/html": [
       "<dl class=dl-horizontal>\n",
       "\t<dt>ABDOMEN</dt>\n",
       "\t\t<dd>FALSE</dd>\n",
       "\t<dt>WEIGHT</dt>\n",
       "\t\t<dd>TRUE</dd>\n",
       "\t<dt>WRIST</dt>\n",
       "\t\t<dd>FALSE</dd>\n",
       "\t<dt>FOREARM</dt>\n",
       "\t\t<dd>FALSE</dd>\n",
       "</dl>\n"
      ],
      "text/latex": [
       "\\begin{description*}\n",
       "\\item[ABDOMEN] FALSE\n",
       "\\item[WEIGHT] TRUE\n",
       "\\item[WRIST] FALSE\n",
       "\\item[FOREARM] FALSE\n",
       "\\end{description*}\n"
      ],
      "text/markdown": [
       "ABDOMEN\n",
       ":   FALSEWEIGHT\n",
       ":   TRUEWRIST\n",
       ":   FALSEFOREARM\n",
       ":   FALSE\n",
       "\n"
      ],
      "text/plain": [
       "ABDOMEN  WEIGHT   WRIST FOREARM \n",
       "  FALSE    TRUE   FALSE   FALSE "
      ]
     },
     "metadata": {},
     "output_type": "display_data"
    }
   ],
   "source": [
    "library(car)\n",
    "LR_backward<-lm(formula = BODYFAT ~ ABDOMEN + WEIGHT + WRIST + FOREARM, \n",
    "            data = BodyFatData[, c(2,4:17)])\n",
    "vif(LR_backward)>5"
   ]
  },
  {
   "cell_type": "markdown",
   "metadata": {},
   "source": [
    "The model is still unstable, so we try other methods to do variable selection."
   ]
  },
  {
   "cell_type": "markdown",
   "metadata": {},
   "source": [
    "### Variable Selection with XGBoost\n",
    "XGBoost is an ensemble learning method with tree models. It will output the importance of variables after establishing the model. The criterion for ranking predictors is how many times the variable is chosen as the node in decision trees. The more frequent it is chosen the larger score it will get. Moreover, if the variable is chosen near root of tree, the score will has a large weight because its influence to the decision tree is large."
   ]
  },
  {
   "cell_type": "code",
   "execution_count": 5,
   "metadata": {},
   "outputs": [
    {
     "ename": "ERROR",
     "evalue": "Error in parse(text = x, srcfile = src): <text>:1:6: unexpected symbol\n1: from IPython.display\n         ^\n",
     "output_type": "error",
     "traceback": [
      "Error in parse(text = x, srcfile = src): <text>:1:6: unexpected symbol\n1: from IPython.display\n         ^\nTraceback:\n"
     ]
    }
   ],
   "source": [
    "from IPython.display import Image\n",
    "Image(filename = 'plots/xgboost.jpg', width=100, height=60)"
   ]
  },
  {
   "cell_type": "markdown",
   "metadata": {},
   "source": [
    "## Stable Statistical Model\n",
    "In both of our methods, we find that ABDOMEN is the most important variable among 14 predictors. WEIGHT ranks high in both methods comparing with other variables. WRIST is significant in linear stepwise model and ADIPOSITY scores high in nonlinear model. Considering the rule of thumb, we select ABDOMEN as our first variable in predicting body fat. Also, to increase the accuracy we choose another variable among WRIST, WEIGHT, ADIPOSITY as our second variable. The number of predictors are too small to use any tree model or ensemble method in machine learning. We still choose normal linear regression as our model. The colinearity are not significant between two variables, so we may not add regulization to our model. After comparing three models, we choose ABDOMEN and WEIGHT as our predictors, because it has highest R-square 0.72."
   ]
  },
  {
   "cell_type": "code",
   "execution_count": 4,
   "metadata": {},
   "outputs": [
    {
     "data": {
      "text/plain": [
       "\n",
       "Call:\n",
       "lm(formula = BODYFAT ~ ABDOMEN + WEIGHT, data = BodyFatData[, \n",
       "    c(\"BODYFAT\", \"WEIGHT\", \"ABDOMEN\")])\n",
       "\n",
       "Residuals:\n",
       "     Min       1Q   Median       3Q      Max \n",
       "-10.4921  -2.9487   0.1029   2.9113   9.7391 \n",
       "\n",
       "Coefficients:\n",
       "             Estimate Std. Error t value Pr(>|t|)    \n",
       "(Intercept) -40.67689    2.41527 -16.842  < 2e-16 ***\n",
       "ABDOMEN       0.90824    0.05222  17.392  < 2e-16 ***\n",
       "WEIGHT       -0.13642    0.01915  -7.125 1.12e-11 ***\n",
       "---\n",
       "Signif. codes:  0 ‘***’ 0.001 ‘**’ 0.01 ‘*’ 0.05 ‘.’ 0.1 ‘ ’ 1\n",
       "\n",
       "Residual standard error: 4.098 on 248 degrees of freedom\n",
       "Multiple R-squared:  0.7148,\tAdjusted R-squared:  0.7125 \n",
       "F-statistic: 310.8 on 2 and 248 DF,  p-value: < 2.2e-16\n"
      ]
     },
     "metadata": {},
     "output_type": "display_data"
    }
   ],
   "source": [
    "fit1<-lm(formula = BODYFAT ~ ABDOMEN + WEIGHT, \n",
    "            data = BodyFatData[, c(\"BODYFAT\", \"WEIGHT\", \"ABDOMEN\")])\n",
    "summary(fit1)"
   ]
  },
  {
   "cell_type": "markdown",
   "metadata": {},
   "source": [
    "## Model Diagnostics\n",
    "Firstly, use VIF to check colinearity. There is no obvious colinearity between ABDOMEN and WEIGHT."
   ]
  },
  {
   "cell_type": "code",
   "execution_count": 6,
   "metadata": {},
   "outputs": [
    {
     "data": {
      "text/html": [
       "<dl class=dl-horizontal>\n",
       "\t<dt>ABDOMEN</dt>\n",
       "\t\t<dd>FALSE</dd>\n",
       "\t<dt>WEIGHT</dt>\n",
       "\t\t<dd>FALSE</dd>\n",
       "</dl>\n"
      ],
      "text/latex": [
       "\\begin{description*}\n",
       "\\item[ABDOMEN] FALSE\n",
       "\\item[WEIGHT] FALSE\n",
       "\\end{description*}\n"
      ],
      "text/markdown": [
       "ABDOMEN\n",
       ":   FALSEWEIGHT\n",
       ":   FALSE\n",
       "\n"
      ],
      "text/plain": [
       "ABDOMEN  WEIGHT \n",
       "  FALSE   FALSE "
      ]
     },
     "metadata": {},
     "output_type": "display_data"
    }
   ],
   "source": [
    "vif(fit1)>5"
   ]
  },
  {
   "cell_type": "markdown",
   "metadata": {},
   "source": [
    "Then, plot the residuals vs fitted values. Residuals are seperated randomly near 0 and there is no correlation between fitted value and residuals. Also, there is no correlation between residuals and predictors.\n",
    "<img src=\"plots/res.png\" alt=\"Drawing\" style=\"width: 350px;\"/>"
   ]
  },
  {
   "cell_type": "markdown",
   "metadata": {},
   "source": [
    "QQ-plot of residuals show that residuals generally follows normal distribution. It is normal that there are still some outliers in the model.\n",
    "<img src=\"plots/outlier.png\" alt=\"Drawing\" style=\"width: 400px;\"/>"
   ]
  },
  {
   "cell_type": "markdown",
   "metadata": {},
   "source": [
    "# Conclusion\n",
    "\n",
    "\n",
    " \n",
    "## Rule of Thumb \n",
    "\n",
    "Multiply your abdomen (cm) by.\n",
    "\n",
    "$$ Body\\ Fat\\ \\% =  -40.77528 + 0.91797*ABDOMEN (cm) - 0.14060*WEIGHT(lbs) $$\n",
    "\n",
    "\n",
    "\n",
    "## Strength & Weekness\n",
    "\n",
    "Our model has the following strength:\n",
    "\n",
    "1. **Simplicity**\n",
    "\n",
    "2. **Robustness**\n",
    "\n",
    "3. **Interpretability**\n",
    "\n",
    "As for the weekness:\n",
    "\n",
    "**Only use two predictors, some information from other predictors may be ignored.**\n",
    "\n",
    "\n",
    "# Shiny APP\n",
    "\n",
    "Based on the model above, we developed the shiny app. \n",
    "\n",
    "## Extra packages\n",
    "\n",
    "Beside the \"shiny\" package, we also used \"shinybulma\", \"grid\", \"png\", \"bs4Dash\", \"rsconnect\", \"ggplot2\", \"shinyalert\".\n",
    "\n",
    "## Function\n",
    "\n",
    "1. Body Fat calculator\n",
    "2. Size converter(kg to lbs, inch to cm)\n",
    "3. Detail information about body fat\n",
    "\n",
    "## Web-based app Link\n",
    "\n",
    "https://jiawen1014.shinyapps.io/BodyFat/\n",
    "\n",
    "\n",
    "\n",
    "# Contribution\n",
    "\n",
    "Jiawen Chen: Web-based App\n",
    "\n",
    "Chunyuan Jin: Model building and model diagnosing\n",
    "\n",
    "Han Liao: Data cleaning"
   ]
  }
 ],
 "metadata": {
  "kernelspec": {
   "display_name": "R",
   "language": "R",
   "name": "ir"
  },
  "language_info": {
   "codemirror_mode": "r",
   "file_extension": ".r",
   "mimetype": "text/x-r-source",
   "name": "R",
   "pygments_lexer": "r",
   "version": "3.4.2"
  },
  "widgets": {
   "state": {},
   "version": "1.1.2"
  }
 },
 "nbformat": 4,
 "nbformat_minor": 2
}
