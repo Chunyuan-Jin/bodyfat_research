{
 "cells": [
  {
   "cell_type": "markdown",
   "metadata": {},
   "source": [
    "<h1 style=\"text-align:center\">Body Fat Calculator </h1>\n",
    "<h4 style=\"text-align:right\">Jiawen Chen, Chunyuan Jin, Han Liao </h4>\n",
    "\n",
    "\n",
    "\n",
    " \n",
    "# 1 Introduction\n",
    "\n",
    "\n",
    "## 1.1 Background\n",
    "<p> \n",
    "\n",
    "\n",
    "## 1.2 Description of Dataset\n",
    "\n",
    "\n",
    "### 1.2.1 Formula\n",
    "\n",
    "\n",
    "<p> The Siri's equation for estimating the **body fat B(%)** is\n",
    "\n",
    " $$ Body\\ Fat\\ \\%\\ (i.e. 100 \\times B) = \\frac{495}{D} - 450,\\ D = Body\\ Density\\ (gm/cm^{3})$$ \n",
    " \n",
    "\n",
    "<p> The formula for estimating **ADIPOSITY (BMI)** is\n",
    " \n",
    "$$ADIPOSITY\\ (bmi)= \\frac{weight\\ (lbs) \\times 703}{[height\\ (in)]^2}$$"
   ]
  },
  {
   "cell_type": "markdown",
   "metadata": {},
   "source": [
    "### 1.2.2 Glimpse at the dataset"
   ]
  },
  {
   "cell_type": "code",
   "execution_count": 6,
   "metadata": {
    "scrolled": true
   },
   "outputs": [
    {
     "data": {
      "text/html": [
       "<table>\n",
       "<caption>A data.frame: 2 × 17</caption>\n",
       "<thead>\n",
       "\t<tr><th scope=col>IDNO</th><th scope=col>BODYFAT</th><th scope=col>DENSITY</th><th scope=col>AGE</th><th scope=col>WEIGHT</th><th scope=col>HEIGHT</th><th scope=col>ADIPOSITY</th><th scope=col>NECK</th><th scope=col>CHEST</th><th scope=col>ABDOMEN</th><th scope=col>HIP</th><th scope=col>THIGH</th><th scope=col>KNEE</th><th scope=col>ANKLE</th><th scope=col>BICEPS</th><th scope=col>FOREARM</th><th scope=col>WRIST</th></tr>\n",
       "\t<tr><th scope=col>&lt;int&gt;</th><th scope=col>&lt;dbl&gt;</th><th scope=col>&lt;dbl&gt;</th><th scope=col>&lt;int&gt;</th><th scope=col>&lt;dbl&gt;</th><th scope=col>&lt;dbl&gt;</th><th scope=col>&lt;dbl&gt;</th><th scope=col>&lt;dbl&gt;</th><th scope=col>&lt;dbl&gt;</th><th scope=col>&lt;dbl&gt;</th><th scope=col>&lt;dbl&gt;</th><th scope=col>&lt;dbl&gt;</th><th scope=col>&lt;dbl&gt;</th><th scope=col>&lt;dbl&gt;</th><th scope=col>&lt;dbl&gt;</th><th scope=col>&lt;dbl&gt;</th><th scope=col>&lt;dbl&gt;</th></tr>\n",
       "</thead>\n",
       "<tbody>\n",
       "\t<tr><td>1</td><td>12.6</td><td>1.0708</td><td>23</td><td>154.25</td><td>67.75</td><td>23.7</td><td>36.2</td><td>93.1</td><td>85.2</td><td>94.5</td><td>59.0</td><td>37.3</td><td>21.9</td><td>32.0</td><td>27.4</td><td>17.1</td></tr>\n",
       "\t<tr><td>2</td><td> 6.9</td><td>1.0853</td><td>22</td><td>173.25</td><td>72.25</td><td>23.4</td><td>38.5</td><td>93.6</td><td>83.0</td><td>98.7</td><td>58.7</td><td>37.3</td><td>23.4</td><td>30.5</td><td>28.9</td><td>18.2</td></tr>\n",
       "</tbody>\n",
       "</table>\n"
      ],
      "text/latex": [
       "A data.frame: 2 × 17\n",
       "\\begin{tabular}{r|lllllllllllllllll}\n",
       " IDNO & BODYFAT & DENSITY & AGE & WEIGHT & HEIGHT & ADIPOSITY & NECK & CHEST & ABDOMEN & HIP & THIGH & KNEE & ANKLE & BICEPS & FOREARM & WRIST\\\\\n",
       " <int> & <dbl> & <dbl> & <int> & <dbl> & <dbl> & <dbl> & <dbl> & <dbl> & <dbl> & <dbl> & <dbl> & <dbl> & <dbl> & <dbl> & <dbl> & <dbl>\\\\\n",
       "\\hline\n",
       "\t 1 & 12.6 & 1.0708 & 23 & 154.25 & 67.75 & 23.7 & 36.2 & 93.1 & 85.2 & 94.5 & 59.0 & 37.3 & 21.9 & 32.0 & 27.4 & 17.1\\\\\n",
       "\t 2 &  6.9 & 1.0853 & 22 & 173.25 & 72.25 & 23.4 & 38.5 & 93.6 & 83.0 & 98.7 & 58.7 & 37.3 & 23.4 & 30.5 & 28.9 & 18.2\\\\\n",
       "\\end{tabular}\n"
      ],
      "text/markdown": [
       "\n",
       "A data.frame: 2 × 17\n",
       "\n",
       "| IDNO &lt;int&gt; | BODYFAT &lt;dbl&gt; | DENSITY &lt;dbl&gt; | AGE &lt;int&gt; | WEIGHT &lt;dbl&gt; | HEIGHT &lt;dbl&gt; | ADIPOSITY &lt;dbl&gt; | NECK &lt;dbl&gt; | CHEST &lt;dbl&gt; | ABDOMEN &lt;dbl&gt; | HIP &lt;dbl&gt; | THIGH &lt;dbl&gt; | KNEE &lt;dbl&gt; | ANKLE &lt;dbl&gt; | BICEPS &lt;dbl&gt; | FOREARM &lt;dbl&gt; | WRIST &lt;dbl&gt; |\n",
       "|---|---|---|---|---|---|---|---|---|---|---|---|---|---|---|---|---|\n",
       "| 1 | 12.6 | 1.0708 | 23 | 154.25 | 67.75 | 23.7 | 36.2 | 93.1 | 85.2 | 94.5 | 59.0 | 37.3 | 21.9 | 32.0 | 27.4 | 17.1 |\n",
       "| 2 |  6.9 | 1.0853 | 22 | 173.25 | 72.25 | 23.4 | 38.5 | 93.6 | 83.0 | 98.7 | 58.7 | 37.3 | 23.4 | 30.5 | 28.9 | 18.2 |\n",
       "\n"
      ],
      "text/plain": [
       "  IDNO BODYFAT DENSITY AGE WEIGHT HEIGHT ADIPOSITY NECK CHEST ABDOMEN HIP \n",
       "1 1    12.6    1.0708  23  154.25 67.75  23.7      36.2 93.1  85.2    94.5\n",
       "2 2     6.9    1.0853  22  173.25 72.25  23.4      38.5 93.6  83.0    98.7\n",
       "  THIGH KNEE ANKLE BICEPS FOREARM WRIST\n",
       "1 59.0  37.3 21.9  32.0   27.4    17.1 \n",
       "2 58.7  37.3 23.4  30.5   28.9    18.2 "
      ]
     },
     "metadata": {},
     "output_type": "display_data"
    },
    {
     "data": {
      "text/html": [
       "<table>\n",
       "<caption>A data.frame: 2 × 17</caption>\n",
       "<thead>\n",
       "\t<tr><th></th><th scope=col>IDNO</th><th scope=col>BODYFAT</th><th scope=col>DENSITY</th><th scope=col>AGE</th><th scope=col>WEIGHT</th><th scope=col>HEIGHT</th><th scope=col>ADIPOSITY</th><th scope=col>NECK</th><th scope=col>CHEST</th><th scope=col>ABDOMEN</th><th scope=col>HIP</th><th scope=col>THIGH</th><th scope=col>KNEE</th><th scope=col>ANKLE</th><th scope=col>BICEPS</th><th scope=col>FOREARM</th><th scope=col>WRIST</th></tr>\n",
       "\t<tr><th></th><th scope=col>&lt;int&gt;</th><th scope=col>&lt;dbl&gt;</th><th scope=col>&lt;dbl&gt;</th><th scope=col>&lt;int&gt;</th><th scope=col>&lt;dbl&gt;</th><th scope=col>&lt;dbl&gt;</th><th scope=col>&lt;dbl&gt;</th><th scope=col>&lt;dbl&gt;</th><th scope=col>&lt;dbl&gt;</th><th scope=col>&lt;dbl&gt;</th><th scope=col>&lt;dbl&gt;</th><th scope=col>&lt;dbl&gt;</th><th scope=col>&lt;dbl&gt;</th><th scope=col>&lt;dbl&gt;</th><th scope=col>&lt;dbl&gt;</th><th scope=col>&lt;dbl&gt;</th><th scope=col>&lt;dbl&gt;</th></tr>\n",
       "</thead>\n",
       "<tbody>\n",
       "\t<tr><th scope=row>251</th><td>251</td><td>25.3</td><td>1.0399</td><td>72</td><td>190.75</td><td>70.5</td><td>27.0</td><td>38.9</td><td>108.3</td><td>101.3</td><td> 97.8</td><td>56.0</td><td>41.6</td><td>22.7</td><td>30.5</td><td>29.4</td><td>19.8</td></tr>\n",
       "\t<tr><th scope=row>252</th><td>252</td><td>30.7</td><td>1.0271</td><td>74</td><td>207.50</td><td>70.0</td><td>29.8</td><td>40.8</td><td>112.4</td><td>108.5</td><td>107.1</td><td>59.3</td><td>42.2</td><td>24.6</td><td>33.7</td><td>30.0</td><td>20.9</td></tr>\n",
       "</tbody>\n",
       "</table>\n"
      ],
      "text/latex": [
       "A data.frame: 2 × 17\n",
       "\\begin{tabular}{r|lllllllllllllllll}\n",
       "  & IDNO & BODYFAT & DENSITY & AGE & WEIGHT & HEIGHT & ADIPOSITY & NECK & CHEST & ABDOMEN & HIP & THIGH & KNEE & ANKLE & BICEPS & FOREARM & WRIST\\\\\n",
       "  & <int> & <dbl> & <dbl> & <int> & <dbl> & <dbl> & <dbl> & <dbl> & <dbl> & <dbl> & <dbl> & <dbl> & <dbl> & <dbl> & <dbl> & <dbl> & <dbl>\\\\\n",
       "\\hline\n",
       "\t251 & 251 & 25.3 & 1.0399 & 72 & 190.75 & 70.5 & 27.0 & 38.9 & 108.3 & 101.3 &  97.8 & 56.0 & 41.6 & 22.7 & 30.5 & 29.4 & 19.8\\\\\n",
       "\t252 & 252 & 30.7 & 1.0271 & 74 & 207.50 & 70.0 & 29.8 & 40.8 & 112.4 & 108.5 & 107.1 & 59.3 & 42.2 & 24.6 & 33.7 & 30.0 & 20.9\\\\\n",
       "\\end{tabular}\n"
      ],
      "text/markdown": [
       "\n",
       "A data.frame: 2 × 17\n",
       "\n",
       "| <!--/--> | IDNO &lt;int&gt; | BODYFAT &lt;dbl&gt; | DENSITY &lt;dbl&gt; | AGE &lt;int&gt; | WEIGHT &lt;dbl&gt; | HEIGHT &lt;dbl&gt; | ADIPOSITY &lt;dbl&gt; | NECK &lt;dbl&gt; | CHEST &lt;dbl&gt; | ABDOMEN &lt;dbl&gt; | HIP &lt;dbl&gt; | THIGH &lt;dbl&gt; | KNEE &lt;dbl&gt; | ANKLE &lt;dbl&gt; | BICEPS &lt;dbl&gt; | FOREARM &lt;dbl&gt; | WRIST &lt;dbl&gt; |\n",
       "|---|---|---|---|---|---|---|---|---|---|---|---|---|---|---|---|---|---|\n",
       "| 251 | 251 | 25.3 | 1.0399 | 72 | 190.75 | 70.5 | 27.0 | 38.9 | 108.3 | 101.3 |  97.8 | 56.0 | 41.6 | 22.7 | 30.5 | 29.4 | 19.8 |\n",
       "| 252 | 252 | 30.7 | 1.0271 | 74 | 207.50 | 70.0 | 29.8 | 40.8 | 112.4 | 108.5 | 107.1 | 59.3 | 42.2 | 24.6 | 33.7 | 30.0 | 20.9 |\n",
       "\n"
      ],
      "text/plain": [
       "    IDNO BODYFAT DENSITY AGE WEIGHT HEIGHT ADIPOSITY NECK CHEST ABDOMEN HIP  \n",
       "251 251  25.3    1.0399  72  190.75 70.5   27.0      38.9 108.3 101.3    97.8\n",
       "252 252  30.7    1.0271  74  207.50 70.0   29.8      40.8 112.4 108.5   107.1\n",
       "    THIGH KNEE ANKLE BICEPS FOREARM WRIST\n",
       "251 56.0  41.6 22.7  30.5   29.4    19.8 \n",
       "252 59.3  42.2 24.6  33.7   30.0    20.9 "
      ]
     },
     "metadata": {},
     "output_type": "display_data"
    }
   ],
   "source": [
    "BodyFat = read.csv(\"BodyFat.csv\"); head(BodyFat, 2); tail(BodyFat, 2)"
   ]
  },
  {
   "cell_type": "markdown",
   "metadata": {},
   "source": [
    "We have **252** observations and **17** variables, with their precisions and units included in the parenthesis.\n",
    " \n",
    "* Response variable: Body fat (0.1)\n",
    "* Predictive variables and their precison unit: Age(1 years), Weight(0.25 lbs), Height(0.25 inches), Adiposity(0.1 bmi), Neck circumference(0.1 cm), Chest circumference(0.1 cm), Abdomen circumference(0.1 cm), Hip circumference(0.1 cm), Thigh circumference(0.1 cm), Knee circumference(0.1 cm), Ankle circumference(0.1 cm), Biceps (extended) circumference(0.1 cm), Forearm circumference(0.1 cm), Wrist circumference(0.1 cm)"
   ]
  },
  {
   "cell_type": "markdown",
   "metadata": {},
   "source": [
    "# 2 Data Cleaning\n",
    "\n",
    "To begin with, we use summary() to have an overview of the data. The following points stand out: 216's high bodyfat, 182's zero bodyfat, 39's large weight, and 42's short height."
   ]
  },
  {
   "cell_type": "code",
   "execution_count": 5,
   "metadata": {},
   "outputs": [
    {
     "data": {
      "text/plain": [
       "    BODYFAT         DENSITY           AGE            WEIGHT     \n",
       " Min.   : 0.00   Min.   :0.995   Min.   :22.00   Min.   :118.5  \n",
       " 1st Qu.:12.80   1st Qu.:1.041   1st Qu.:35.75   1st Qu.:159.0  \n",
       " Median :19.00   Median :1.055   Median :43.00   Median :176.5  \n",
       " Mean   :18.94   Mean   :1.056   Mean   :44.88   Mean   :178.9  \n",
       " 3rd Qu.:24.60   3rd Qu.:1.070   3rd Qu.:54.00   3rd Qu.:197.0  \n",
       " Max.   :45.10   Max.   :1.109   Max.   :81.00   Max.   :363.1  \n",
       "     HEIGHT        ADIPOSITY          NECK           CHEST       \n",
       " Min.   :29.50   Min.   :18.10   Min.   :31.10   Min.   : 79.30  \n",
       " 1st Qu.:68.25   1st Qu.:23.10   1st Qu.:36.40   1st Qu.: 94.35  \n",
       " Median :70.00   Median :25.05   Median :38.00   Median : 99.65  \n",
       " Mean   :70.15   Mean   :25.44   Mean   :37.99   Mean   :100.82  \n",
       " 3rd Qu.:72.25   3rd Qu.:27.32   3rd Qu.:39.42   3rd Qu.:105.38  \n",
       " Max.   :77.75   Max.   :48.90   Max.   :51.20   Max.   :136.20  \n",
       "    ABDOMEN            HIP            THIGH            KNEE      \n",
       " Min.   : 69.40   Min.   : 85.0   Min.   :47.20   Min.   :33.00  \n",
       " 1st Qu.: 84.58   1st Qu.: 95.5   1st Qu.:56.00   1st Qu.:36.98  \n",
       " Median : 90.95   Median : 99.3   Median :59.00   Median :38.50  \n",
       " Mean   : 92.56   Mean   : 99.9   Mean   :59.41   Mean   :38.59  \n",
       " 3rd Qu.: 99.33   3rd Qu.:103.5   3rd Qu.:62.35   3rd Qu.:39.92  \n",
       " Max.   :148.10   Max.   :147.7   Max.   :87.30   Max.   :49.10  \n",
       "     ANKLE          BICEPS         FOREARM          WRIST      \n",
       " Min.   :19.1   Min.   :24.80   Min.   :21.00   Min.   :15.80  \n",
       " 1st Qu.:22.0   1st Qu.:30.20   1st Qu.:27.30   1st Qu.:17.60  \n",
       " Median :22.8   Median :32.05   Median :28.70   Median :18.30  \n",
       " Mean   :23.1   Mean   :32.27   Mean   :28.66   Mean   :18.23  \n",
       " 3rd Qu.:24.0   3rd Qu.:34.33   3rd Qu.:30.00   3rd Qu.:18.80  \n",
       " Max.   :33.9   Max.   :45.00   Max.   :34.90   Max.   :21.40  "
      ]
     },
     "metadata": {},
     "output_type": "display_data"
    }
   ],
   "source": [
    "summary(BodyFat[, -1]) #Boxplot in slides."
   ]
  },
  {
   "cell_type": "markdown",
   "metadata": {},
   "source": [
    "For data cleaning, we have summarized the following three criteria:\n",
    "\n",
    "1. NO imputation for any records of response variable, BODYFAT.\n",
    "2. Exclude records which are verified as wrong and unable to impute correctly.\n",
    "3. Exclude extreme and high influential points, for the privilege of fitting a robust and common applied model.\n",
    "\n",
    "## 2.1 Check BODYFAT Using DENSITY\n",
    "\n",
    "Since BODYFAT is the response variable, the most crucial one during the whole analysis, as criterion 1 mentions, we do not impute BODYFAT. And as the following regression plot shows, BODYFAT is inversely proportional with DENSITY. And aftering detecting the following outliers one at each time: 96, 48, 76, 182, and 216, we trained the model without aforementioned outliers to predicted their BODYFAT based on DENSITY and analyzed each outliers in an order of decreasing residual, analyzing them orderly.\n",
    "![](image/BODYFAT_regression.jpeg)"
   ]
  },
  {
   "cell_type": "markdown",
   "metadata": {},
   "source": [
    "| Prediction | 96 | 48 | 76 | 182 | 216|\n",
    "|------|------|------|------|------|------|\n",
    "| \\|Bias\\| | 15.7 | 7.9 | 4.0 | 2.1 | 0.0|"
   ]
  },
  {
   "cell_type": "markdown",
   "metadata": {},
   "source": [
    "**96: Keep.**  Given 96 has the largest prediction bias, we deducted that either DENSITY or BODYFAT must be recorded wrong. Compared with observations sharing similar DENSITY (172), similar BODYFAT (126), similar BODYFAT and HEIGHT(109), 96 has more significant difference with 172, thus the DENSITY must be wrong. Without further verification, the distribution of 96 seems reasonable, thus we keep 96."
   ]
  },
  {
   "cell_type": "code",
   "execution_count": 6,
   "metadata": {},
   "outputs": [
    {
     "data": {
      "text/html": [
       "<table>\n",
       "<thead><tr><th></th><th scope=col>BODYFAT</th><th scope=col>DENSITY</th><th scope=col>AGE</th><th scope=col>WEIGHT</th><th scope=col>HEIGHT</th><th scope=col>ADIPOSITY</th><th scope=col>ABDOMEN</th><th scope=col>WRIST</th></tr></thead>\n",
       "<tbody>\n",
       "\t<tr><th scope=row>96</th><td>17.3  </td><td>1.0991</td><td>53    </td><td>224.50</td><td>77.75 </td><td>26.1  </td><td>99.2  </td><td>20.4  </td></tr>\n",
       "\t<tr><th scope=row>172</th><td> 1.9  </td><td>1.0983</td><td>35    </td><td>125.75</td><td>65.50 </td><td>20.6  </td><td>75.0  </td><td>16.9  </td></tr>\n",
       "\t<tr><th scope=row>126</th><td>17.4  </td><td>1.0587</td><td>46    </td><td>167.00</td><td>67.00 </td><td>26.2  </td><td>89.9  </td><td>17.6  </td></tr>\n",
       "\t<tr><th scope=row>109</th><td>17.2  </td><td>1.0593</td><td>43    </td><td>194.00</td><td>75.50 </td><td>24.0  </td><td>88.7  </td><td>19.2  </td></tr>\n",
       "</tbody>\n",
       "</table>\n"
      ],
      "text/latex": [
       "\\begin{tabular}{r|llllllll}\n",
       "  & BODYFAT & DENSITY & AGE & WEIGHT & HEIGHT & ADIPOSITY & ABDOMEN & WRIST\\\\\n",
       "\\hline\n",
       "\t96 & 17.3   & 1.0991 & 53     & 224.50 & 77.75  & 26.1   & 99.2   & 20.4  \\\\\n",
       "\t172 &  1.9   & 1.0983 & 35     & 125.75 & 65.50  & 20.6   & 75.0   & 16.9  \\\\\n",
       "\t126 & 17.4   & 1.0587 & 46     & 167.00 & 67.00  & 26.2   & 89.9   & 17.6  \\\\\n",
       "\t109 & 17.2   & 1.0593 & 43     & 194.00 & 75.50  & 24.0   & 88.7   & 19.2  \\\\\n",
       "\\end{tabular}\n"
      ],
      "text/markdown": [
       "\n",
       "| <!--/--> | BODYFAT | DENSITY | AGE | WEIGHT | HEIGHT | ADIPOSITY | ABDOMEN | WRIST | \n",
       "|---|---|---|---|\n",
       "| 96 | 17.3   | 1.0991 | 53     | 224.50 | 77.75  | 26.1   | 99.2   | 20.4   | \n",
       "| 172 |  1.9   | 1.0983 | 35     | 125.75 | 65.50  | 20.6   | 75.0   | 16.9   | \n",
       "| 126 | 17.4   | 1.0587 | 46     | 167.00 | 67.00  | 26.2   | 89.9   | 17.6   | \n",
       "| 109 | 17.2   | 1.0593 | 43     | 194.00 | 75.50  | 24.0   | 88.7   | 19.2   | \n",
       "\n",
       "\n"
      ],
      "text/plain": [
       "    BODYFAT DENSITY AGE WEIGHT HEIGHT ADIPOSITY ABDOMEN WRIST\n",
       "96  17.3    1.0991  53  224.50 77.75  26.1      99.2    20.4 \n",
       "172  1.9    1.0983  35  125.75 65.50  20.6      75.0    16.9 \n",
       "126 17.4    1.0587  46  167.00 67.00  26.2      89.9    17.6 \n",
       "109 17.2    1.0593  43  194.00 75.50  24.0      88.7    19.2 "
      ]
     },
     "metadata": {},
     "output_type": "display_data"
    }
   ],
   "source": [
    "BodyFat[c(96, 172, 126, 109),c(2,3,4,5,6,7,10,17)]"
   ]
  },
  {
   "cell_type": "markdown",
   "metadata": {},
   "source": [
    "**48 & 76 : Delete.** \n",
    "48 and 76 have similar DENSITY, but significantly different BODYFAT. Comparing them with observations sharing similar DENSITY (146 & 90), all indexes except for BODYFAT are reasonable, for which we deducted the BODYFAT records are wrong. Though we could have estimated their BODYFAT as 14.3, as the first criterion mentioned before, we do not impute response variable. Thus, we delete 48 and 76 based on the 1st and 2nd criteria."
   ]
  },
  {
   "cell_type": "code",
   "execution_count": 7,
   "metadata": {},
   "outputs": [
    {
     "data": {
      "text/html": [
       "<table>\n",
       "<thead><tr><th></th><th scope=col>BODYFAT</th><th scope=col>DENSITY</th><th scope=col>AGE</th><th scope=col>WEIGHT</th><th scope=col>HEIGHT</th><th scope=col>ADIPOSITY</th><th scope=col>ABDOMEN</th><th scope=col>WRIST</th></tr></thead>\n",
       "<tbody>\n",
       "\t<tr><th scope=row>146</th><td>14.4  </td><td>1.0664</td><td>24    </td><td>156.00</td><td>70.75 </td><td>21.9  </td><td>81.9  </td><td>17.3  </td></tr>\n",
       "\t<tr><th scope=row>48</th><td> 6.4  </td><td>1.0665</td><td>39    </td><td>148.50</td><td>71.25 </td><td>20.6  </td><td>79.5  </td><td>17.9  </td></tr>\n",
       "\t<tr><th scope=row>76</th><td>18.3  </td><td>1.0666</td><td>61    </td><td>148.25</td><td>67.50 </td><td>22.9  </td><td>81.8  </td><td>18.3  </td></tr>\n",
       "\t<tr><th scope=row>90</th><td>14.3  </td><td>1.0666</td><td>48    </td><td>176.00</td><td>73.00 </td><td>23.3  </td><td>86.5  </td><td>18.7  </td></tr>\n",
       "</tbody>\n",
       "</table>\n"
      ],
      "text/latex": [
       "\\begin{tabular}{r|llllllll}\n",
       "  & BODYFAT & DENSITY & AGE & WEIGHT & HEIGHT & ADIPOSITY & ABDOMEN & WRIST\\\\\n",
       "\\hline\n",
       "\t146 & 14.4   & 1.0664 & 24     & 156.00 & 70.75  & 21.9   & 81.9   & 17.3  \\\\\n",
       "\t48 &  6.4   & 1.0665 & 39     & 148.50 & 71.25  & 20.6   & 79.5   & 17.9  \\\\\n",
       "\t76 & 18.3   & 1.0666 & 61     & 148.25 & 67.50  & 22.9   & 81.8   & 18.3  \\\\\n",
       "\t90 & 14.3   & 1.0666 & 48     & 176.00 & 73.00  & 23.3   & 86.5   & 18.7  \\\\\n",
       "\\end{tabular}\n"
      ],
      "text/markdown": [
       "\n",
       "| <!--/--> | BODYFAT | DENSITY | AGE | WEIGHT | HEIGHT | ADIPOSITY | ABDOMEN | WRIST | \n",
       "|---|---|---|---|\n",
       "| 146 | 14.4   | 1.0664 | 24     | 156.00 | 70.75  | 21.9   | 81.9   | 17.3   | \n",
       "| 48 |  6.4   | 1.0665 | 39     | 148.50 | 71.25  | 20.6   | 79.5   | 17.9   | \n",
       "| 76 | 18.3   | 1.0666 | 61     | 148.25 | 67.50  | 22.9   | 81.8   | 18.3   | \n",
       "| 90 | 14.3   | 1.0666 | 48     | 176.00 | 73.00  | 23.3   | 86.5   | 18.7   | \n",
       "\n",
       "\n"
      ],
      "text/plain": [
       "    BODYFAT DENSITY AGE WEIGHT HEIGHT ADIPOSITY ABDOMEN WRIST\n",
       "146 14.4    1.0664  24  156.00 70.75  21.9      81.9    17.3 \n",
       "48   6.4    1.0665  39  148.50 71.25  20.6      79.5    17.9 \n",
       "76  18.3    1.0666  61  148.25 67.50  22.9      81.8    18.3 \n",
       "90  14.3    1.0666  48  176.00 73.00  23.3      86.5    18.7 "
      ]
     },
     "metadata": {},
     "output_type": "display_data"
    }
   ],
   "source": [
    "BodyFat[order(BodyFat$DENSITY)[173:176],c(2,3,4,5,6,7,10,17)]"
   ]
  },
  {
   "cell_type": "markdown",
   "metadata": {},
   "source": [
    "**182 & 216: Delete.** As the following figure shows, red points refer to 182, purple points refer to 216. Though 182 and 216 have not too large predition bias, their extreme BODYFAT, WEIGHT, and other indxes indicate their distributions are rather extreme and uncommon. It is unreasonable for a human to have zero or negative BODYFAT like 182, and it is also rare for people to have such serious overweight phenomenon. Thus, based on the 3rd criterion, we sacrifice the information provided by 182 and 216, for the privilege of fitting a more robust and accurate model for most people. "
   ]
  },
  {
   "cell_type": "markdown",
   "metadata": {},
   "source": [
    "## 2.2 Check HEIGHT & WEIGHT Using ADIPOSITY\n",
    "\n",
    "As the formula for ADIPOSITY with HEIGHT and WEIGHT introduced before, we identified and corrected outliers for WEIGHT and HEIGHT based on ADIPOSITY. Using similar approach as the last section, we  obtained a similar list of outliers with decreasing residuals: 39, 42, 163, and 221. Besides, 42 is an extreme high influential point as the following plot shows.\n",
    "![](image/BMI_regression.jpeg)"
   ]
  },
  {
   "cell_type": "markdown",
   "metadata": {},
   "source": [
    "| Prediction | 39 | 42 | 163 | 221 |\n",
    "|------|------|------|------|------|\n",
    "| \\|Bias\\| | 0.0 | 135.6 | 3.0 | 2.8 | "
   ]
  },
  {
   "cell_type": "markdown",
   "metadata": {},
   "source": [
    "**39: Delete.** Though the records are correct based on the prediction result for 39, he has the highest records for the following ten variables, which indicate this person as extreme overweight. Recalling our 3rd criterion, we exclude this point from constructing a robust model."
   ]
  },
  {
   "cell_type": "markdown",
   "metadata": {},
   "source": [
    "| WEIGHT | ADIPOSITY | NECK | CHEST | ABDOMEN | HIP | THIGH | KNEE | BICEPS | WRIST |\n",
    "|------|------|------|------|------|------|------|------|------|------|"
   ]
  },
  {
   "cell_type": "markdown",
   "metadata": {},
   "source": [
    "**42：Impute HEIGHT.**\n",
    "42 is a significant high influential point, and his records on HEIGHT is unreasonable as 29.50 inches. The imputed HEIGHT is 69.48, which is reasonable, however, considering the minimum precision for HEIGHT is 0.25 inch, we corrected the 42's HEIGHT into 69.50 inches. "
   ]
  },
  {
   "cell_type": "markdown",
   "metadata": {},
   "source": [
    "| 42 | Record | Prediction | Imputation |\n",
    "|------|------|------|------|\n",
    "| HEIGHT | 29.50 | 69.48 | 69.50 |"
   ]
  },
  {
   "cell_type": "markdown",
   "metadata": {},
   "source": [
    "**163: Delete.**\n",
    "As we can see, 163 and 221 are significant outliers based on the redisual plot. By analyzing subsets with similar ADIPOSITY, 174's 24.3 and 84's 24.5, as 163's 24.4, we found the outlier could be interpreted as each following way: WEIGHT recorded higher, or HEIGHT recorded lower, or ADIPOSITY recorded lower. Since we are unable to identify the exact mistake and impute correctly, based on our 3rd criteria, we delete 163 from consideration. "
   ]
  },
  {
   "cell_type": "code",
   "execution_count": 3,
   "metadata": {},
   "outputs": [
    {
     "data": {
      "text/html": [
       "<table>\n",
       "<thead><tr><th></th><th scope=col>WEIGHT</th><th scope=col>HEIGHT</th><th scope=col>ADIPOSITY</th></tr></thead>\n",
       "<tbody>\n",
       "\t<tr><th scope=row>174</th><td>176.25</td><td>71.50 </td><td>24.3  </td></tr>\n",
       "\t<tr><th scope=row>163</th><td>184.25</td><td>68.75 </td><td>24.4  </td></tr>\n",
       "\t<tr><th scope=row>84</th><td>170.75</td><td>70.00 </td><td>24.5  </td></tr>\n",
       "</tbody>\n",
       "</table>\n"
      ],
      "text/latex": [
       "\\begin{tabular}{r|lll}\n",
       "  & WEIGHT & HEIGHT & ADIPOSITY\\\\\n",
       "\\hline\n",
       "\t174 & 176.25 & 71.50  & 24.3  \\\\\n",
       "\t163 & 184.25 & 68.75  & 24.4  \\\\\n",
       "\t84 & 170.75 & 70.00  & 24.5  \\\\\n",
       "\\end{tabular}\n"
      ],
      "text/markdown": [
       "\n",
       "| <!--/--> | WEIGHT | HEIGHT | ADIPOSITY | \n",
       "|---|---|---|\n",
       "| 174 | 176.25 | 71.50  | 24.3   | \n",
       "| 163 | 184.25 | 68.75  | 24.4   | \n",
       "| 84 | 170.75 | 70.00  | 24.5   | \n",
       "\n",
       "\n"
      ],
      "text/plain": [
       "    WEIGHT HEIGHT ADIPOSITY\n",
       "174 176.25 71.50  24.3     \n",
       "163 184.25 68.75  24.4     \n",
       "84  170.75 70.00  24.5     "
      ]
     },
     "metadata": {},
     "output_type": "display_data"
    }
   ],
   "source": [
    "BodyFat[ order(BodyFat$ADIPOSITY)[c(105,108,109)], c(5:7)]"
   ]
  },
  {
   "cell_type": "markdown",
   "metadata": {},
   "source": [
    "**221: Delete.**\n",
    "Based on the similar approach, assuming a correct ADIPOSITY, 221 might have wrong WEIGHT records, lower than the real WEIGHT, compared with 163rd and 9th observations sharing similar ADIPOSITY. However, when we look at the subset with similar WEIGHT and assume a correct ADIPOSITY record, 221\n",
    "s HEIGHT might be recorded wrong, higher than the real HEIGHT. Thus, without identifying a significant abnormal behaviour for all three indexes, ADIPOSITY, WEIGHT, and HEIGHT, but confirming one of the pretictive variable would be used in analysis is wrong, we delete 221 based on our 2nd criteria."
   ]
  },
  {
   "cell_type": "code",
   "execution_count": 6,
   "metadata": {
    "scrolled": true
   },
   "outputs": [
    {
     "data": {
      "text/html": [
       "<table>\n",
       "<thead><tr><th></th><th scope=col>WEIGHT</th><th scope=col>HEIGHT</th><th scope=col>ADIPOSITY</th><th scope=col>IDNO</th><th scope=col>WEIGHT</th><th scope=col>HEIGHT</th><th scope=col>ADIPOSITY</th></tr></thead>\n",
       "<tbody>\n",
       "\t<tr><th scope=row>163</th><td>184.25</td><td>68.75 </td><td>24.4  </td><td>191   </td><td>153.00</td><td>69.25 </td><td>22.5  </td></tr>\n",
       "\t<tr><th scope=row>221</th><td>153.25</td><td>70.50 </td><td>24.5  </td><td>221   </td><td>153.25</td><td>70.50 </td><td>24.5  </td></tr>\n",
       "\t<tr><th scope=row>9</th><td>191.00</td><td>74.00 </td><td>24.6  </td><td>  3   </td><td>154.00</td><td>66.25 </td><td>24.7  </td></tr>\n",
       "</tbody>\n",
       "</table>\n"
      ],
      "text/latex": [
       "\\begin{tabular}{r|lllllll}\n",
       "  & WEIGHT & HEIGHT & ADIPOSITY & IDNO & WEIGHT & HEIGHT & ADIPOSITY\\\\\n",
       "\\hline\n",
       "\t163 & 184.25 & 68.75  & 24.4   & 191    & 153.00 & 69.25  & 22.5  \\\\\n",
       "\t221 & 153.25 & 70.50  & 24.5   & 221    & 153.25 & 70.50  & 24.5  \\\\\n",
       "\t9 & 191.00 & 74.00  & 24.6   &   3    & 154.00 & 66.25  & 24.7  \\\\\n",
       "\\end{tabular}\n"
      ],
      "text/markdown": [
       "\n",
       "| <!--/--> | WEIGHT | HEIGHT | ADIPOSITY | IDNO | WEIGHT | HEIGHT | ADIPOSITY | \n",
       "|---|---|---|\n",
       "| 163 | 184.25 | 68.75  | 24.4   | 191    | 153.00 | 69.25  | 22.5   | \n",
       "| 221 | 153.25 | 70.50  | 24.5   | 221    | 153.25 | 70.50  | 24.5   | \n",
       "| 9 | 191.00 | 74.00  | 24.6   |   3    | 154.00 | 66.25  | 24.7   | \n",
       "\n",
       "\n"
      ],
      "text/plain": [
       "    WEIGHT HEIGHT ADIPOSITY IDNO WEIGHT HEIGHT ADIPOSITY\n",
       "163 184.25 68.75  24.4      191  153.00 69.25  22.5     \n",
       "221 153.25 70.50  24.5      221  153.25 70.50  24.5     \n",
       "9   191.00 74.00  24.6        3  154.00 66.25  24.7     "
      ]
     },
     "metadata": {},
     "output_type": "display_data"
    }
   ],
   "source": [
    "cbind( BodyFat[ order(BodyFat$ADIPOSITY)[c(108,111,112)], c(5:7)], BodyFat[ order(BodyFat$WEIGHT)[44:46],c(1,5:7)])"
   ]
  },
  {
   "cell_type": "markdown",
   "metadata": {},
   "source": [
    "## 2.3 Data cleaning summary\n",
    " \n",
    "<dl>\n",
    "In conclusion, for data cleaning. We exclude seven points, 39, 48, 76, 163, 182, 216, and 221 based on our three criteria. Besides we impute the HEIGHT of 42.\n",
    "<dt>Extreme Values:\n",
    "<dd>   \n",
    "    \n",
    "1. WEIGHT: Delete 39.\n",
    "    \n",
    "2. BODYFAT: Delete 182 and 216.\n",
    "    \n",
    "<dt>Incorrect Records:\n",
    "<dd>   \n",
    "    \n",
    "1. BODYFAT: Delete 48 and 76.\n",
    "\n",
    "2. WEIGHT & HEIGHT: Delete 163 and 221.</dd>\n",
    "\n",
    "<dt>Imputed Value:\n",
    "<dd>   \n",
    "    \n",
    " 1. HEIGHT: 42.</dd>\n",
    "</dl>"
   ]
  },
  {
   "cell_type": "markdown",
   "metadata": {},
   "source": [
    "# 3 Variable Selection and Statistical Modeling\n",
    "\n",
    "## 3.1 Relationship between BodyFat and Predictors\n",
    "\n",
    "![](image/all_regression.jpeg)\n",
    "\n",
    "As we can see in this Figure, all the variables show the linear tendency, and some variable might have multicollinearity, so we try Lasso regression at first, we also use the Mallow's Cp, BIC forward and backward to select the variable.\n",
    "\n",
    "## 3.2 Variable and Model Selection\n",
    "\n",
    "| Method | ABDOMEN | WRIST | HEIGHT | WEIGHT | AGE |  R-squard|\n",
    "|------|------|------|------|------|------|------|\n",
    "| Lasso-1 | 0.50 | 0 | 0 | 0 | 0 | 0.641 |\n",
    "\n",
    "From the table, all the selected variables are reasonable   \n",
    "ABDOMEN: a direct reflection of body fat  \n",
    "WRIST and HEIGHT: an indicator of body frame  \n",
    "WEIGHT: refect body fat and muscle proportion\n",
    "\n",
    "\n",
    "### 3.2.1 **Stepwise Backward and Forward LR**  \n",
    "\n",
    "\n",
    "\n",
    "### 3.2.2 **Lasso Regression**\n",
    "\n",
    "\n",
    "\n",
    "### 3.2.3 **Xgboost**\n",
    "\n",
    "\n",
    "\n",
    "\n",
    "## 3.3 Model Interpretion \n",
    "\n",
    "\n",
    "\n",
    "## 3.4 Model Diagnostics\n",
    "\n",
    "\n",
    "### 3.4.1 **Using Plots**\n",
    "\n",
    "After model fitting, We diagnose the model assumptions with the standardized residual plot and the QQ plot.\n",
    "\n",
    "![](image/Qqplot.jpeg)\n",
    "\n",
    "### 3.4.2 **Using Outside Source**\n",
    "\n"
   ]
  },
  {
   "cell_type": "markdown",
   "metadata": {},
   "source": [
    "# 4 Conclusion\n",
    "\n",
    "\n",
    " \n",
    "## 4.1 Rule of Thumb \n",
    "\n",
    "Multiply your abdomen (cm) by.\n",
    "\n",
    "$$ Body\\ Fat\\ \\% =  \\beta_0 (Constant)  + \\beta_1 ABDOMEN (cm) $$\n",
    "\n",
    "\n",
    "\n",
    "## 4.2 Strength & Weekness\n",
    "\n",
    "Our model has the following strength:\n",
    "\n",
    "1. **Simplicity**\n",
    "\n",
    "2. **Robustness**\n",
    "\n",
    "3. **Interpretability**\n",
    "\n",
    "As for the weekness:\n",
    "\n",
    "1. **Precision**\n",
    "\n",
    "\n",
    "\n",
    "\n",
    "\n",
    "# 5 Contribution\n",
    "\n",
    "Jiawen Chen: \n",
    "\n",
    "Chunyuan Jin:\n",
    "\n",
    "Han Liao:"
   ]
  },
  {
   "cell_type": "code",
   "execution_count": null,
   "metadata": {},
   "outputs": [],
   "source": []
  }
 ],
 "metadata": {
  "kernelspec": {
   "display_name": "R",
   "language": "R",
   "name": "ir"
  },
  "language_info": {
   "codemirror_mode": "r",
   "file_extension": ".r",
   "mimetype": "text/x-r-source",
   "name": "R",
   "pygments_lexer": "r",
   "version": "3.5.2"
  },
  "widgets": {
   "state": {},
   "version": "1.1.2"
  }
 },
 "nbformat": 4,
 "nbformat_minor": 2
}
