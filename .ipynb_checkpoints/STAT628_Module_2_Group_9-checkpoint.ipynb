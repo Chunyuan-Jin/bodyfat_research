{
 "cells": [
  {
   "cell_type": "markdown",
   "metadata": {},
   "source": [
    "# Introduction\n",
    "\n",
    "\n",
    "## Background\n",
    "\n",
    "<p> Body fat percentage is a measure of fitness level, which is not easy to obtain during clinical application. A popular way to estimate the body fat is by using the Siri's equation. However, body density is also hard to obtain. \n",
    "    \n",
    "<p> This project aims to come up with a simple, robust, accurate and precise “rule-of-thumb” method to estimate percentage of body fat using clinically available measurements.\n",
    "\n",
    "## Description of Dataset\n",
    "\n",
    "\n",
    "### Formula\n",
    "\n",
    "<p> The Siri's equation for estimating the **body fat B(%)** is\n",
    "\n",
    " $$ Body\\ Fat\\ \\%\\ (i.e. 100 \\times B) = \\frac{495}{D} - 450,\\ D = Body\\ Density\\ (gm/cm^{3})$$ \n",
    " \n",
    "\n",
    "<p> The formula for estimating **ADIPOSITY (BMI)** is\n",
    " \n",
    "$$ADIPOSITY\\ (BMI)= \\frac{Weight\\ (lbs) \\times 703}{[Height\\ (inch)]^2}$$"
   ]
  },
  {
   "cell_type": "markdown",
   "metadata": {},
   "source": [
    "### Overview of the dataset"
   ]
  },
  {
   "cell_type": "markdown",
   "metadata": {},
   "source": [
    "We have **252** observations and **17** variables, their units are given in the parenthesis.\n",
    " \n",
    "* Response variable: Body fat in percentage\n",
    "* Predictors: Age (years), Weight (lbs), Height (inches), Adiposity (bmi), Neck circumference (cm), Chest circumference (cm), Abdomen circumference (cm), Hip circumference (cm), Thigh circumference (cm), Knee circumference (cm), Ankle circumference (cm), Biceps (extended) circumference (cm), Forearm circumference (cm), Wrist circumference (cm)"
   ]
  },
  {
   "cell_type": "markdown",
   "metadata": {},
   "source": [
    "# Data Cleaning\n",
    "\n",
    "Our data cleaning process follows these criteria:\n",
    "\n",
    "1. Impute those variables which have abnormal values and can be fixed with their redundant variable.\n",
    "2. Filter out records which are abnormal and cannot be fixed.\n",
    "\n",
    "## Use Summary Table to Check Extreme Values\n",
    "\n",
    "We use the summary table to get an overview of the data. What surprises us is the extreme values in some variables"
   ]
  },
  {
   "cell_type": "markdown",
   "metadata": {},
   "source": [
    "From the summary table, we can see there exist extreme values in the some variables.\n",
    "\n",
    "![](plots/summary.png)\n",
    "\n",
    "The observations that have extreme values are \n",
    "\n",
    "![](plots/data1.png)"
   ]
  },
  {
   "cell_type": "markdown",
   "metadata": {},
   "source": [
    "**BODYFAT** is the response variable whose reasonable value ranges from 2% to 39%. \n",
    "Individual 172 has lowest possible body fat, which can be considered as essential fat;\n",
    "Individual 216 is sever obesity, which is possible;\n",
    "Individual 182, it's impossible to have 0% of bodyfat, and after checking the siri's equation to his density, the corresponding bodyfat becomes negative, thus we filter this records out of our analysis.\n",
    "\n",
    "There also exists extreme value in **WEIGHT**, which occurs in individual 39. This man also has the largest value in  ADIPOSITY, NECK, CHEST, ABDOMEN, HIP, THIGH, KNEE, BICEPS, and WRIST. Which indicates that this record does exist.\n",
    "\n",
    "As for **HEIGHT**, individual 42's height is only 29.5 which is quite abnormal. After checking the corresponding weight by BMI formula, we can assume that this is a wrong record. Thus we fix his height by applying the BMI formula."
   ]
  },
  {
   "cell_type": "markdown",
   "metadata": {},
   "source": [
    "\n",
    "## Check Siri's Equation\n",
    "\n",
    "Known that the body fat percentage can be estimated by the density with the Siri's equation. We build a linear model between the bodyfat percentage estimated by Siri's equation and the bodyfat percentage in the data set. The residual plot and the QQ plot of this model is shown below. We can see that record 48, 76, 96 are possible outliers. \n",
    "\n",
    "![](plots/data2_1.png)"
   ]
  },
  {
   "cell_type": "markdown",
   "metadata": {},
   "source": [
    "Individual 96's other variables all have normal value, which indicates his desity might be wrongly recorded.\n",
    "\n",
    "Individual 48 and 76 have similar values in other variables, thus their body fat percentage should also be similar. Thus we use the Siri's equation to fix their body fat percentage."
   ]
  },
  {
   "cell_type": "markdown",
   "metadata": {},
   "source": [
    "## Check the BMI Formula\n",
    "\n",
    "Known that the ADIPOSITY can be estimated using WEIGHT and HEIGHT. We build a linear model between the BMI estimated by equation and the ADIPOSITY in the data set. The residual plot and the QQ plot of this model is shown below. We can see that record 163, 220, 234 are possible outliers.\n",
    "\n",
    "![](plots/data3_1.png)"
   ]
  },
  {
   "cell_type": "markdown",
   "metadata": {},
   "source": [
    "For individual 163, 220, and 234, their weights vary a lot, which means their BMI should not be similar to each other. Thus we adopt the calculated BMI as their ADIPOSITY."
   ]
  },
  {
   "cell_type": "markdown",
   "metadata": {},
   "source": [
    "## Data cleaning summary\n",
    " \n",
    "In conclusion:\n",
    "    \n",
    "Record **182** is filtered out because it has 0 body fat and there's no way to fix that.\n",
    "    \n",
    "The HEIGHT of record **42** is fixed according to the weight and adiposity.\n",
    "    \n",
    "The body fat of record **48** and **76** are fixed according to the density.\n",
    "    \n",
    "The adiposity of record **163**, **220**, and **234** are fixed according to the weight and height."
   ]
  },
  {
   "cell_type": "markdown",
   "metadata": {},
   "source": [
    "# Variable Selection and Statistical Modeling\n",
    "\n",
    "## Variable Selection \n",
    "### Stepwise Backward and Forward LR\n",
    "Considering there is a tradeoff between model variance and accuracy, we'd better not use all 14 predictors to establish the model. Although the mean square of error (MSE) will be small, the model itself will be unstable. Firstly, we try normal linear regression using the stepwise method to select features. We chose BIC as criterion and directions of forward and backward. The result was shown respectively."
   ]
  },
  {
   "cell_type": "code",
   "execution_count": 1,
   "metadata": {
    "scrolled": true
   },
   "outputs": [
    {
     "data": {
      "text/html": [
       "<table>\n",
       "<caption>A matrix: 5 × 4 of type dbl</caption>\n",
       "<thead>\n",
       "\t<tr><th></th><th scope=col>Estimate</th><th scope=col>Std. Error</th><th scope=col>t value</th><th scope=col>Pr(&gt;|t|)</th></tr>\n",
       "</thead>\n",
       "<tbody>\n",
       "\t<tr><th scope=row>(Intercept)</th><td>-29.9234561</td><td>6.69406028</td><td>-4.470150</td><td>1.193678e-05</td></tr>\n",
       "\t<tr><th scope=row>ABDOMEN</th><td>  0.9133283</td><td>0.05163326</td><td>17.688759</td><td>9.869649e-46</td></tr>\n",
       "\t<tr><th scope=row>WEIGHT</th><td> -0.1238172</td><td>0.02276101</td><td>-5.439883</td><td>1.285958e-07</td></tr>\n",
       "\t<tr><th scope=row>WRIST</th><td> -1.4082304</td><td>0.40713801</td><td>-3.458853</td><td>6.391933e-04</td></tr>\n",
       "\t<tr><th scope=row>FOREARM</th><td>  0.4253252</td><td>0.16733889</td><td> 2.541700</td><td>1.164621e-02</td></tr>\n",
       "</tbody>\n",
       "</table>\n"
      ],
      "text/latex": [
       "A matrix: 5 × 4 of type dbl\n",
       "\\begin{tabular}{r|llll}\n",
       "  & Estimate & Std. Error & t value & Pr(>\\textbar{}t\\textbar{})\\\\\n",
       "\\hline\n",
       "\t(Intercept) & -29.9234561 & 6.69406028 & -4.470150 & 1.193678e-05\\\\\n",
       "\tABDOMEN &   0.9133283 & 0.05163326 & 17.688759 & 9.869649e-46\\\\\n",
       "\tWEIGHT &  -0.1238172 & 0.02276101 & -5.439883 & 1.285958e-07\\\\\n",
       "\tWRIST &  -1.4082304 & 0.40713801 & -3.458853 & 6.391933e-04\\\\\n",
       "\tFOREARM &   0.4253252 & 0.16733889 &  2.541700 & 1.164621e-02\\\\\n",
       "\\end{tabular}\n"
      ],
      "text/markdown": [
       "\n",
       "A matrix: 5 × 4 of type dbl\n",
       "\n",
       "| <!--/--> | Estimate | Std. Error | t value | Pr(&gt;|t|) |\n",
       "|---|---|---|---|---|\n",
       "| (Intercept) | -29.9234561 | 6.69406028 | -4.470150 | 1.193678e-05 |\n",
       "| ABDOMEN |   0.9133283 | 0.05163326 | 17.688759 | 9.869649e-46 |\n",
       "| WEIGHT |  -0.1238172 | 0.02276101 | -5.439883 | 1.285958e-07 |\n",
       "| WRIST |  -1.4082304 | 0.40713801 | -3.458853 | 6.391933e-04 |\n",
       "| FOREARM |   0.4253252 | 0.16733889 |  2.541700 | 1.164621e-02 |\n",
       "\n"
      ],
      "text/plain": [
       "            Estimate    Std. Error t value   Pr(>|t|)    \n",
       "(Intercept) -29.9234561 6.69406028 -4.470150 1.193678e-05\n",
       "ABDOMEN       0.9133283 0.05163326 17.688759 9.869649e-46\n",
       "WEIGHT       -0.1238172 0.02276101 -5.439883 1.285958e-07\n",
       "WRIST        -1.4082304 0.40713801 -3.458853 6.391933e-04\n",
       "FOREARM       0.4253252 0.16733889  2.541700 1.164621e-02"
      ]
     },
     "metadata": {},
     "output_type": "display_data"
    }
   ],
   "source": [
    "BodyFatData <-read.csv(\"data/CleanData.csv\")\n",
    "library(MASS)\n",
    "base=lm(BODYFAT~1,data=BodyFatData[, c(2,4:17)])\n",
    "full<-lm(BODYFAT~.,data=BodyFatData[, c(2,4:17)])#  use forward stepwise method with BIC, and select four variables in linear regression \n",
    "summary(stepAIC(base,scope=list(lower=~1,upper=full),direction = \"forward\",k=log(249),trace = F))$coefficients"
   ]
  },
  {
   "cell_type": "markdown",
   "metadata": {},
   "source": [
    "The results of backward and forward method are the same, WEIGHT, ABDOMEN, FOREARM, WRIST were chosen as predictors and they are all significant. R-square of the model is 0.736, which indicates the accuracy of the model is quite good.  However,  in the linear model, collinearity of predictors will increase the variance of model. VIF is a value to identify collinearity. There are collineary between variables if VIF is larger than 5."
   ]
  },
  {
   "cell_type": "code",
   "execution_count": 7,
   "metadata": {},
   "outputs": [
    {
     "name": "stdout",
     "output_type": "stream",
     "text": [
      " ABDOMEN   WEIGHT    WRIST  FOREARM \n",
      "4.789592 6.924539 2.242982 1.770719 \n"
     ]
    }
   ],
   "source": [
    "library(car)\n",
    "print(vif(lm(formula = BODYFAT ~ ABDOMEN + WEIGHT + WRIST + FOREARM, data = BodyFatData[, c(2,4:17)])))"
   ]
  },
  {
   "cell_type": "markdown",
   "metadata": {},
   "source": [
    "The model is still unstable, so we try other methods to do variable selection."
   ]
  },
  {
   "cell_type": "markdown",
   "metadata": {},
   "source": [
    "### Variable Selection with XGBoost\n",
    "XGBoost is an ensemble learning method with tree models. It will output the importance of variables after establishing the model. The criterion for ranking predictors is how many times the variable is chosen as the node in decision trees. The more frequent it is chosen the larger score it will get. Moreover, if the variable is chosen near root of tree, the score will has a large weight because its influence to the decision tree is large."
   ]
  },
  {
   "cell_type": "markdown",
   "metadata": {},
   "source": [
    "![](plots/xgboost.png)"
   ]
  },
  {
   "cell_type": "markdown",
   "metadata": {},
   "source": [
    "## Stable Statistical Model\n",
    "In both of our methods, we find that ABDOMEN is the most important variable among 14 predictors. WEIGHT ranks high in both methods comparing with other variables. WRIST is significant in linear stepwise model and ADIPOSITY scores high in nonlinear model. Considering the rule of thumb, we select ABDOMEN as our first variable in predicting body fat. Also, to increase the accuracy we choose another variable among WRIST, WEIGHT, ADIPOSITY as our second variable. The number of predictors are too small to use any tree model or ensemble method in machine learning. We still choose normal linear regression as our model. The collinearity are not significant between two variables, so we may not add regulization to our model. After comparing three models, we choose ABDOMEN and WEIGHT as our predictors, because it has highest R-square 0.72."
   ]
  },
  {
   "cell_type": "code",
   "execution_count": 3,
   "metadata": {},
   "outputs": [
    {
     "data": {
      "text/html": [
       "<table>\n",
       "<caption>A matrix: 3 × 4 of type dbl</caption>\n",
       "<thead>\n",
       "\t<tr><th></th><th scope=col>Estimate</th><th scope=col>Std. Error</th><th scope=col>t value</th><th scope=col>Pr(&gt;|t|)</th></tr>\n",
       "</thead>\n",
       "<tbody>\n",
       "\t<tr><th scope=row>(Intercept)</th><td>-40.6768857</td><td>2.41526710</td><td>-16.841568</td><td>5.953549e-43</td></tr>\n",
       "\t<tr><th scope=row>ABDOMEN</th><td>  0.9082391</td><td>0.05222159</td><td> 17.392023</td><td>7.810903e-45</td></tr>\n",
       "\t<tr><th scope=row>WEIGHT</th><td> -0.1364208</td><td>0.01914546</td><td> -7.125489</td><td>1.124027e-11</td></tr>\n",
       "</tbody>\n",
       "</table>\n"
      ],
      "text/latex": [
       "A matrix: 3 × 4 of type dbl\n",
       "\\begin{tabular}{r|llll}\n",
       "  & Estimate & Std. Error & t value & Pr(>\\textbar{}t\\textbar{})\\\\\n",
       "\\hline\n",
       "\t(Intercept) & -40.6768857 & 2.41526710 & -16.841568 & 5.953549e-43\\\\\n",
       "\tABDOMEN &   0.9082391 & 0.05222159 &  17.392023 & 7.810903e-45\\\\\n",
       "\tWEIGHT &  -0.1364208 & 0.01914546 &  -7.125489 & 1.124027e-11\\\\\n",
       "\\end{tabular}\n"
      ],
      "text/markdown": [
       "\n",
       "A matrix: 3 × 4 of type dbl\n",
       "\n",
       "| <!--/--> | Estimate | Std. Error | t value | Pr(&gt;|t|) |\n",
       "|---|---|---|---|---|\n",
       "| (Intercept) | -40.6768857 | 2.41526710 | -16.841568 | 5.953549e-43 |\n",
       "| ABDOMEN |   0.9082391 | 0.05222159 |  17.392023 | 7.810903e-45 |\n",
       "| WEIGHT |  -0.1364208 | 0.01914546 |  -7.125489 | 1.124027e-11 |\n",
       "\n"
      ],
      "text/plain": [
       "            Estimate    Std. Error t value    Pr(>|t|)    \n",
       "(Intercept) -40.6768857 2.41526710 -16.841568 5.953549e-43\n",
       "ABDOMEN       0.9082391 0.05222159  17.392023 7.810903e-45\n",
       "WEIGHT       -0.1364208 0.01914546  -7.125489 1.124027e-11"
      ]
     },
     "metadata": {},
     "output_type": "display_data"
    }
   ],
   "source": [
    "fit1<-lm(formula = BODYFAT ~ ABDOMEN + WEIGHT, \n",
    "            data = BodyFatData[, c(\"BODYFAT\", \"WEIGHT\", \"ABDOMEN\")])\n",
    "summary(fit1)$coefficients"
   ]
  },
  {
   "cell_type": "markdown",
   "metadata": {},
   "source": [
    "## Model Diagnostics & Strength and Weekness\n",
    "### Final Model:\n",
    "$$BODYFAT (\\%) = 0.908*ABDOMEN(cm) - 0.136*WEIGHT(lb)$$\n",
    "### Model Diagnostics:\n",
    "\n",
    "Firstly, use VIF to check collinearity. There is no obvious collinearity between ABDOMEN and WEIGHT."
   ]
  },
  {
   "cell_type": "markdown",
   "metadata": {},
   "source": [
    "print(vif(fit1))"
   ]
  },
  {
   "cell_type": "markdown",
   "metadata": {},
   "source": [
    "Then, plot the residuals vs fitted values. Residuals are seperated randomly near 0 and there is no correlation between fitted value and residuals. Also, there is no correlation between residuals and predictors. QQ-plot of residuals show that residuals generally follows normal distribution. It is normal that there are still some outliers in the model."
   ]
  },
  {
   "cell_type": "markdown",
   "metadata": {},
   "source": [
    "![](plots/dia.png)"
   ]
  },
  {
   "cell_type": "markdown",
   "metadata": {},
   "source": [
    "### Strength and Weakness of our model: \n",
    "\n",
    "Generally, this model is a simple, robust, accurate and efficient model. It satisfies assumptions in linear regression model and explains 72% of the variation in body fat \\% among men although. It also has weaknesses as it cannot capture higher order effects and interactions.\n",
    "\n",
    "\n",
    "# Shiny APP\n",
    "\n",
    "Based on the model above, we developed the shiny app. \n",
    "\n",
    "#### Extra packages\n",
    "\n",
    "Beside the \"shiny\" package, we also used \"shinybulma\", \"grid\", \"png\", \"bs4Dash\", \"rsconnect\", \"ggplot2\", \"shinyalert\".\n",
    "\n",
    "#### Function\n",
    "\n",
    "1. Body Fat calculator\n",
    "2. Size converter(kg to lbs, inch to cm)\n",
    "3. Detail information about body fat\n",
    "\n",
    "#### Web-based app Link\n",
    "\n",
    "https://jiawen1014.shinyapps.io/BodyFat/\n",
    "\n",
    "\n",
    "# Contribution\n",
    "\n",
    "Jiawen Chen: Web-based App    \n",
    "Chunyuan Jin: Model building and model diagnosing       \n",
    "Han Liao: Data cleaning"
   ]
  }
 ],
 "metadata": {
  "kernelspec": {
   "display_name": "R",
   "language": "R",
   "name": "ir"
  },
  "language_info": {
   "codemirror_mode": "r",
   "file_extension": ".r",
   "mimetype": "text/x-r-source",
   "name": "R",
   "pygments_lexer": "r",
   "version": "3.4.2"
  },
  "widgets": {
   "state": {},
   "version": "1.1.2"
  }
 },
 "nbformat": 4,
 "nbformat_minor": 2
}
