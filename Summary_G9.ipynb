{
 "cells": [
  {
   "attachments": {},
   "cell_type": "markdown",
   "metadata": {},
   "source": [
    "<h1 style=\"text-align:center\">Body Fat Calculator </h1>\n",
    "<h4 style=\"text-align:right\">Jiawen Chen, Chunyuan Jin, Han Liao </h4>\n",
    "\n",
    "\n",
    "\n",
    " \n",
    "# 1 Introduction\n",
    "\n",
    "\n",
    "## 1.1 Background\n",
    "\n",
    "<p> Body fat percentage is a measure of fitness level, which is not easy to obtain during clinical application. A popular way to estimate the body fat is by using the Siri's equation. However, body density is also hard to obtain. \n",
    "    \n",
    "<p> This project aims to come up with a simple, robust, accurate and precise “rule-of-thumb” method to estimate percentage of body fat using clinically available measurements.\n",
    "\n",
    "## 1.2 Description of Dataset\n",
    "\n",
    "\n",
    "### 1.2.1 Formula\n",
    "\n",
    "<p> The Siri's equation for estimating the **body fat B(%)** is\n",
    "\n",
    " $$ Body\\ Fat\\ \\%\\ (i.e. 100 \\times B) = \\frac{495}{D} - 450,\\ D = Body\\ Density\\ (gm/cm^{3})$$ \n",
    " \n",
    "\n",
    "<p> The formula for estimating **ADIPOSITY (BMI)** is\n",
    " \n",
    "$$ADIPOSITY\\ (BMI)= \\frac{Weight\\ (lbs) \\times 703}{[Height\\ (in)]^2}$$"
   ]
  },
  {
   "cell_type": "markdown",
   "metadata": {},
   "source": [
    "### 1.2.2 Glimpse at the dataset"
   ]
  },
  {
   "cell_type": "code",
   "execution_count": 25,
   "metadata": {
    "scrolled": true
   },
   "outputs": [
    {
     "data": {
      "text/html": [
       "<table>\n",
       "<caption>A data.frame: 2 × 17</caption>\n",
       "<thead>\n",
       "\t<tr><th scope=col>IDNO</th><th scope=col>BODYFAT</th><th scope=col>DENSITY</th><th scope=col>AGE</th><th scope=col>WEIGHT</th><th scope=col>HEIGHT</th><th scope=col>ADIPOSITY</th><th scope=col>NECK</th><th scope=col>CHEST</th><th scope=col>ABDOMEN</th><th scope=col>HIP</th><th scope=col>THIGH</th><th scope=col>KNEE</th><th scope=col>ANKLE</th><th scope=col>BICEPS</th><th scope=col>FOREARM</th><th scope=col>WRIST</th></tr>\n",
       "\t<tr><th scope=col>&lt;int&gt;</th><th scope=col>&lt;dbl&gt;</th><th scope=col>&lt;dbl&gt;</th><th scope=col>&lt;int&gt;</th><th scope=col>&lt;dbl&gt;</th><th scope=col>&lt;dbl&gt;</th><th scope=col>&lt;dbl&gt;</th><th scope=col>&lt;dbl&gt;</th><th scope=col>&lt;dbl&gt;</th><th scope=col>&lt;dbl&gt;</th><th scope=col>&lt;dbl&gt;</th><th scope=col>&lt;dbl&gt;</th><th scope=col>&lt;dbl&gt;</th><th scope=col>&lt;dbl&gt;</th><th scope=col>&lt;dbl&gt;</th><th scope=col>&lt;dbl&gt;</th><th scope=col>&lt;dbl&gt;</th></tr>\n",
       "</thead>\n",
       "<tbody>\n",
       "\t<tr><td>1</td><td>12.6</td><td>1.0708</td><td>23</td><td>154.25</td><td>67.75</td><td>23.7</td><td>36.2</td><td>93.1</td><td>85.2</td><td>94.5</td><td>59.0</td><td>37.3</td><td>21.9</td><td>32.0</td><td>27.4</td><td>17.1</td></tr>\n",
       "\t<tr><td>2</td><td> 6.9</td><td>1.0853</td><td>22</td><td>173.25</td><td>72.25</td><td>23.4</td><td>38.5</td><td>93.6</td><td>83.0</td><td>98.7</td><td>58.7</td><td>37.3</td><td>23.4</td><td>30.5</td><td>28.9</td><td>18.2</td></tr>\n",
       "</tbody>\n",
       "</table>\n"
      ],
      "text/latex": [
       "A data.frame: 2 × 17\n",
       "\\begin{tabular}{r|lllllllllllllllll}\n",
       " IDNO & BODYFAT & DENSITY & AGE & WEIGHT & HEIGHT & ADIPOSITY & NECK & CHEST & ABDOMEN & HIP & THIGH & KNEE & ANKLE & BICEPS & FOREARM & WRIST\\\\\n",
       " <int> & <dbl> & <dbl> & <int> & <dbl> & <dbl> & <dbl> & <dbl> & <dbl> & <dbl> & <dbl> & <dbl> & <dbl> & <dbl> & <dbl> & <dbl> & <dbl>\\\\\n",
       "\\hline\n",
       "\t 1 & 12.6 & 1.0708 & 23 & 154.25 & 67.75 & 23.7 & 36.2 & 93.1 & 85.2 & 94.5 & 59.0 & 37.3 & 21.9 & 32.0 & 27.4 & 17.1\\\\\n",
       "\t 2 &  6.9 & 1.0853 & 22 & 173.25 & 72.25 & 23.4 & 38.5 & 93.6 & 83.0 & 98.7 & 58.7 & 37.3 & 23.4 & 30.5 & 28.9 & 18.2\\\\\n",
       "\\end{tabular}\n"
      ],
      "text/markdown": [
       "\n",
       "A data.frame: 2 × 17\n",
       "\n",
       "| IDNO &lt;int&gt; | BODYFAT &lt;dbl&gt; | DENSITY &lt;dbl&gt; | AGE &lt;int&gt; | WEIGHT &lt;dbl&gt; | HEIGHT &lt;dbl&gt; | ADIPOSITY &lt;dbl&gt; | NECK &lt;dbl&gt; | CHEST &lt;dbl&gt; | ABDOMEN &lt;dbl&gt; | HIP &lt;dbl&gt; | THIGH &lt;dbl&gt; | KNEE &lt;dbl&gt; | ANKLE &lt;dbl&gt; | BICEPS &lt;dbl&gt; | FOREARM &lt;dbl&gt; | WRIST &lt;dbl&gt; |\n",
       "|---|---|---|---|---|---|---|---|---|---|---|---|---|---|---|---|---|\n",
       "| 1 | 12.6 | 1.0708 | 23 | 154.25 | 67.75 | 23.7 | 36.2 | 93.1 | 85.2 | 94.5 | 59.0 | 37.3 | 21.9 | 32.0 | 27.4 | 17.1 |\n",
       "| 2 |  6.9 | 1.0853 | 22 | 173.25 | 72.25 | 23.4 | 38.5 | 93.6 | 83.0 | 98.7 | 58.7 | 37.3 | 23.4 | 30.5 | 28.9 | 18.2 |\n",
       "\n"
      ],
      "text/plain": [
       "  IDNO BODYFAT DENSITY AGE WEIGHT HEIGHT ADIPOSITY NECK CHEST ABDOMEN HIP \n",
       "1 1    12.6    1.0708  23  154.25 67.75  23.7      36.2 93.1  85.2    94.5\n",
       "2 2     6.9    1.0853  22  173.25 72.25  23.4      38.5 93.6  83.0    98.7\n",
       "  THIGH KNEE ANKLE BICEPS FOREARM WRIST\n",
       "1 59.0  37.3 21.9  32.0   27.4    17.1 \n",
       "2 58.7  37.3 23.4  30.5   28.9    18.2 "
      ]
     },
     "metadata": {},
     "output_type": "display_data"
    }
   ],
   "source": [
    "BodyFatData = read.csv(\"BodyFat.csv\"); head(BodyFatData, 2)"
   ]
  },
  {
   "cell_type": "markdown",
   "metadata": {},
   "source": [
    "We have **252** observations and **17** variables, their units are given in the parenthesis.\n",
    " \n",
    "* Response variable: Body fat in percentage\n",
    "* Predictors: Age (years), Weight (lbs), Height (inches), Adiposity (bmi), Neck circumference (cm), Chest circumference (cm), Abdomen circumference (cm), Hip circumference (cm), Thigh circumference (cm), Knee circumference (cm), Ankle circumference (cm), Biceps (extended) circumference (cm), Forearm circumference (cm), Wrist circumference (cm)"
   ]
  },
  {
   "cell_type": "markdown",
   "metadata": {},
   "source": [
    "# 2 Data Cleaning\n",
    "\n",
    "Our data cleaning process follows these criteria:\n",
    "\n",
    "1. Impute those variables which have abnormal values and can be fixed with their redundant variable.\n",
    "2. Filter out records which are abnormal and cannot be fixed.\n",
    "\n",
    "## 2.1 Use Summary Table to Check Extreme Values\n",
    "\n",
    "We use the summary table to get an overview of the data. What surprises us is the extreme values in some variables"
   ]
  },
  {
   "cell_type": "code",
   "execution_count": 26,
   "metadata": {},
   "outputs": [
    {
     "data": {
      "text/plain": [
       "    BODYFAT         DENSITY          WEIGHT          HEIGHT     \n",
       " Min.   : 0.00   Min.   :0.995   Min.   :118.5   Min.   :29.50  \n",
       " 1st Qu.:12.80   1st Qu.:1.041   1st Qu.:159.0   1st Qu.:68.25  \n",
       " Median :19.00   Median :1.055   Median :176.5   Median :70.00  \n",
       " Mean   :18.94   Mean   :1.056   Mean   :178.9   Mean   :70.15  \n",
       " 3rd Qu.:24.60   3rd Qu.:1.070   3rd Qu.:197.0   3rd Qu.:72.25  \n",
       " Max.   :45.10   Max.   :1.109   Max.   :363.1   Max.   :77.75  \n",
       "   ADIPOSITY    \n",
       " Min.   :18.10  \n",
       " 1st Qu.:23.10  \n",
       " Median :25.05  \n",
       " Mean   :25.44  \n",
       " 3rd Qu.:27.32  \n",
       " Max.   :48.90  "
      ]
     },
     "metadata": {},
     "output_type": "display_data"
    }
   ],
   "source": [
    "summary(BodyFatData[, c(2,3,5:7)]) "
   ]
  },
  {
   "cell_type": "markdown",
   "metadata": {},
   "source": [
    "From the summary table, we can see there exist extreme values in the some variables."
   ]
  },
  {
   "cell_type": "code",
   "execution_count": 27,
   "metadata": {},
   "outputs": [
    {
     "data": {
      "text/html": [
       "<table>\n",
       "<caption>A data.frame: 5 × 17</caption>\n",
       "<thead>\n",
       "\t<tr><th></th><th scope=col>IDNO</th><th scope=col>BODYFAT</th><th scope=col>DENSITY</th><th scope=col>AGE</th><th scope=col>WEIGHT</th><th scope=col>HEIGHT</th><th scope=col>ADIPOSITY</th><th scope=col>NECK</th><th scope=col>CHEST</th><th scope=col>ABDOMEN</th><th scope=col>HIP</th><th scope=col>THIGH</th><th scope=col>KNEE</th><th scope=col>ANKLE</th><th scope=col>BICEPS</th><th scope=col>FOREARM</th><th scope=col>WRIST</th></tr>\n",
       "\t<tr><th></th><th scope=col>&lt;int&gt;</th><th scope=col>&lt;dbl&gt;</th><th scope=col>&lt;dbl&gt;</th><th scope=col>&lt;int&gt;</th><th scope=col>&lt;dbl&gt;</th><th scope=col>&lt;dbl&gt;</th><th scope=col>&lt;dbl&gt;</th><th scope=col>&lt;dbl&gt;</th><th scope=col>&lt;dbl&gt;</th><th scope=col>&lt;dbl&gt;</th><th scope=col>&lt;dbl&gt;</th><th scope=col>&lt;dbl&gt;</th><th scope=col>&lt;dbl&gt;</th><th scope=col>&lt;dbl&gt;</th><th scope=col>&lt;dbl&gt;</th><th scope=col>&lt;dbl&gt;</th><th scope=col>&lt;dbl&gt;</th></tr>\n",
       "</thead>\n",
       "<tbody>\n",
       "\t<tr><th scope=row>172</th><td>172</td><td> 1.9</td><td>1.0983</td><td>35</td><td>125.75</td><td>65.50</td><td>20.6</td><td>34.0</td><td> 90.8</td><td> 75.0</td><td> 89.2</td><td>50.0</td><td>34.8</td><td>22.0</td><td>24.8</td><td>25.9</td><td>16.9</td></tr>\n",
       "\t<tr><th scope=row>182</th><td>182</td><td> 0.0</td><td>1.1089</td><td>40</td><td>118.50</td><td>68.00</td><td>18.1</td><td>33.8</td><td> 79.3</td><td> 69.4</td><td> 85.0</td><td>47.2</td><td>33.5</td><td>20.2</td><td>27.7</td><td>24.6</td><td>16.5</td></tr>\n",
       "\t<tr><th scope=row>216</th><td>216</td><td>45.1</td><td>0.9950</td><td>51</td><td>219.00</td><td>64.00</td><td>37.6</td><td>41.2</td><td>119.8</td><td>122.1</td><td>112.8</td><td>62.5</td><td>36.9</td><td>23.6</td><td>34.7</td><td>29.1</td><td>18.4</td></tr>\n",
       "\t<tr><th scope=row>29</th><td> 29</td><td> 4.7</td><td>1.0910</td><td>27</td><td>133.25</td><td>64.75</td><td>22.4</td><td>36.4</td><td> 93.5</td><td> 73.9</td><td> 88.5</td><td>50.1</td><td>34.5</td><td>21.3</td><td>30.5</td><td>27.9</td><td>17.2</td></tr>\n",
       "\t<tr><th scope=row>42</th><td> 42</td><td>31.7</td><td>1.0250</td><td>44</td><td>205.00</td><td>29.50</td><td>29.9</td><td>36.6</td><td>106.0</td><td>104.3</td><td>115.5</td><td>70.6</td><td>42.5</td><td>23.7</td><td>33.6</td><td>28.7</td><td>17.4</td></tr>\n",
       "</tbody>\n",
       "</table>\n"
      ],
      "text/latex": [
       "A data.frame: 5 × 17\n",
       "\\begin{tabular}{r|lllllllllllllllll}\n",
       "  & IDNO & BODYFAT & DENSITY & AGE & WEIGHT & HEIGHT & ADIPOSITY & NECK & CHEST & ABDOMEN & HIP & THIGH & KNEE & ANKLE & BICEPS & FOREARM & WRIST\\\\\n",
       "  & <int> & <dbl> & <dbl> & <int> & <dbl> & <dbl> & <dbl> & <dbl> & <dbl> & <dbl> & <dbl> & <dbl> & <dbl> & <dbl> & <dbl> & <dbl> & <dbl>\\\\\n",
       "\\hline\n",
       "\t172 & 172 &  1.9 & 1.0983 & 35 & 125.75 & 65.50 & 20.6 & 34.0 &  90.8 &  75.0 &  89.2 & 50.0 & 34.8 & 22.0 & 24.8 & 25.9 & 16.9\\\\\n",
       "\t182 & 182 &  0.0 & 1.1089 & 40 & 118.50 & 68.00 & 18.1 & 33.8 &  79.3 &  69.4 &  85.0 & 47.2 & 33.5 & 20.2 & 27.7 & 24.6 & 16.5\\\\\n",
       "\t216 & 216 & 45.1 & 0.9950 & 51 & 219.00 & 64.00 & 37.6 & 41.2 & 119.8 & 122.1 & 112.8 & 62.5 & 36.9 & 23.6 & 34.7 & 29.1 & 18.4\\\\\n",
       "\t29 &  29 &  4.7 & 1.0910 & 27 & 133.25 & 64.75 & 22.4 & 36.4 &  93.5 &  73.9 &  88.5 & 50.1 & 34.5 & 21.3 & 30.5 & 27.9 & 17.2\\\\\n",
       "\t42 &  42 & 31.7 & 1.0250 & 44 & 205.00 & 29.50 & 29.9 & 36.6 & 106.0 & 104.3 & 115.5 & 70.6 & 42.5 & 23.7 & 33.6 & 28.7 & 17.4\\\\\n",
       "\\end{tabular}\n"
      ],
      "text/markdown": [
       "\n",
       "A data.frame: 5 × 17\n",
       "\n",
       "| <!--/--> | IDNO &lt;int&gt; | BODYFAT &lt;dbl&gt; | DENSITY &lt;dbl&gt; | AGE &lt;int&gt; | WEIGHT &lt;dbl&gt; | HEIGHT &lt;dbl&gt; | ADIPOSITY &lt;dbl&gt; | NECK &lt;dbl&gt; | CHEST &lt;dbl&gt; | ABDOMEN &lt;dbl&gt; | HIP &lt;dbl&gt; | THIGH &lt;dbl&gt; | KNEE &lt;dbl&gt; | ANKLE &lt;dbl&gt; | BICEPS &lt;dbl&gt; | FOREARM &lt;dbl&gt; | WRIST &lt;dbl&gt; |\n",
       "|---|---|---|---|---|---|---|---|---|---|---|---|---|---|---|---|---|---|\n",
       "| 172 | 172 |  1.9 | 1.0983 | 35 | 125.75 | 65.50 | 20.6 | 34.0 |  90.8 |  75.0 |  89.2 | 50.0 | 34.8 | 22.0 | 24.8 | 25.9 | 16.9 |\n",
       "| 182 | 182 |  0.0 | 1.1089 | 40 | 118.50 | 68.00 | 18.1 | 33.8 |  79.3 |  69.4 |  85.0 | 47.2 | 33.5 | 20.2 | 27.7 | 24.6 | 16.5 |\n",
       "| 216 | 216 | 45.1 | 0.9950 | 51 | 219.00 | 64.00 | 37.6 | 41.2 | 119.8 | 122.1 | 112.8 | 62.5 | 36.9 | 23.6 | 34.7 | 29.1 | 18.4 |\n",
       "| 29 |  29 |  4.7 | 1.0910 | 27 | 133.25 | 64.75 | 22.4 | 36.4 |  93.5 |  73.9 |  88.5 | 50.1 | 34.5 | 21.3 | 30.5 | 27.9 | 17.2 |\n",
       "| 42 |  42 | 31.7 | 1.0250 | 44 | 205.00 | 29.50 | 29.9 | 36.6 | 106.0 | 104.3 | 115.5 | 70.6 | 42.5 | 23.7 | 33.6 | 28.7 | 17.4 |\n",
       "\n"
      ],
      "text/plain": [
       "    IDNO BODYFAT DENSITY AGE WEIGHT HEIGHT ADIPOSITY NECK CHEST ABDOMEN HIP  \n",
       "172 172   1.9    1.0983  35  125.75 65.50  20.6      34.0  90.8  75.0    89.2\n",
       "182 182   0.0    1.1089  40  118.50 68.00  18.1      33.8  79.3  69.4    85.0\n",
       "216 216  45.1    0.9950  51  219.00 64.00  37.6      41.2 119.8 122.1   112.8\n",
       "29   29   4.7    1.0910  27  133.25 64.75  22.4      36.4  93.5  73.9    88.5\n",
       "42   42  31.7    1.0250  44  205.00 29.50  29.9      36.6 106.0 104.3   115.5\n",
       "    THIGH KNEE ANKLE BICEPS FOREARM WRIST\n",
       "172 50.0  34.8 22.0  24.8   25.9    16.9 \n",
       "182 47.2  33.5 20.2  27.7   24.6    16.5 \n",
       "216 62.5  36.9 23.6  34.7   29.1    18.4 \n",
       "29  50.1  34.5 21.3  30.5   27.9    17.2 \n",
       "42  70.6  42.5 23.7  33.6   28.7    17.4 "
      ]
     },
     "metadata": {},
     "output_type": "display_data"
    }
   ],
   "source": [
    "BodyFatData[c(172, 182, 216, 29, 42),]"
   ]
  },
  {
   "cell_type": "markdown",
   "metadata": {},
   "source": [
    "**BODYFAT** is the response variable whose reasonable value ranges from 2% to 39%. \n",
    "Individual 172 has lowest possible body fat, which can be considered as essential fat;\n",
    "Individual 216 is sever obesity, which is possible;\n",
    "Individual 182, it's impossible to have 0% of bodyfat, and after checking the siri's equation to his density, the corresponding bodyfat becomes negative, thus we filter this records out of our analysis.\n",
    "\n",
    "There also exists extreme value in **WEIGHT**, which occurs in individual 39. This man also has the largest value in  ADIPOSITY, NECK, CHEST, ABDOMEN, HIP, THIGH, KNEE, BICEPS, and WRIST. Which indicates that this record does exist.\n",
    "\n",
    "As for **HEIGHT**, individual 42's height is only 29.5 which is quite abnormal. After checking the corresponding weight by BMI formula, we can assume that this is a wrong record. Thus we fix his height by applying the BMI formula."
   ]
  },
  {
   "cell_type": "markdown",
   "metadata": {},
   "source": [
    "\n",
    "## 2.2 Check Siri's Equation\n",
    "\n",
    "Known that the body fat percentage can be estimated by the density with the Siri's equation. We build a linear model between the bodyfat percentage estimated by Siri's equation and the bodyfat percentage in the data set. The residual plot and the QQ plot of this model is shown below. We can see that record 48, 76, 96 are possible outliers. \n",
    "\n",
    "![](plots/siri.PNG)"
   ]
  },
  {
   "cell_type": "code",
   "execution_count": 28,
   "metadata": {
    "scrolled": true
   },
   "outputs": [
    {
     "data": {
      "text/html": [
       "<table>\n",
       "<caption>A data.frame: 3 × 17</caption>\n",
       "<thead>\n",
       "\t<tr><th></th><th scope=col>IDNO</th><th scope=col>BODYFAT</th><th scope=col>DENSITY</th><th scope=col>AGE</th><th scope=col>WEIGHT</th><th scope=col>HEIGHT</th><th scope=col>ADIPOSITY</th><th scope=col>NECK</th><th scope=col>CHEST</th><th scope=col>ABDOMEN</th><th scope=col>HIP</th><th scope=col>THIGH</th><th scope=col>KNEE</th><th scope=col>ANKLE</th><th scope=col>BICEPS</th><th scope=col>FOREARM</th><th scope=col>WRIST</th></tr>\n",
       "\t<tr><th></th><th scope=col>&lt;int&gt;</th><th scope=col>&lt;dbl&gt;</th><th scope=col>&lt;dbl&gt;</th><th scope=col>&lt;int&gt;</th><th scope=col>&lt;dbl&gt;</th><th scope=col>&lt;dbl&gt;</th><th scope=col>&lt;dbl&gt;</th><th scope=col>&lt;dbl&gt;</th><th scope=col>&lt;dbl&gt;</th><th scope=col>&lt;dbl&gt;</th><th scope=col>&lt;dbl&gt;</th><th scope=col>&lt;dbl&gt;</th><th scope=col>&lt;dbl&gt;</th><th scope=col>&lt;dbl&gt;</th><th scope=col>&lt;dbl&gt;</th><th scope=col>&lt;dbl&gt;</th><th scope=col>&lt;dbl&gt;</th></tr>\n",
       "</thead>\n",
       "<tbody>\n",
       "\t<tr><th scope=row>48</th><td>48</td><td> 6.4</td><td>1.0665</td><td>39</td><td>148.50</td><td>71.25</td><td>20.6</td><td>34.6</td><td> 89.8</td><td>79.5</td><td> 92.7</td><td>52.7</td><td>37.5</td><td>21.9</td><td>28.8</td><td>26.8</td><td>17.9</td></tr>\n",
       "\t<tr><th scope=row>76</th><td>76</td><td>18.3</td><td>1.0666</td><td>61</td><td>148.25</td><td>67.50</td><td>22.9</td><td>36.0</td><td> 91.6</td><td>81.8</td><td> 94.8</td><td>54.5</td><td>37.0</td><td>21.4</td><td>29.3</td><td>27.0</td><td>18.3</td></tr>\n",
       "\t<tr><th scope=row>96</th><td>96</td><td>17.3</td><td>1.0991</td><td>53</td><td>224.50</td><td>77.75</td><td>26.1</td><td>41.1</td><td>113.2</td><td>99.2</td><td>107.5</td><td>61.7</td><td>42.3</td><td>23.2</td><td>32.9</td><td>30.8</td><td>20.4</td></tr>\n",
       "</tbody>\n",
       "</table>\n"
      ],
      "text/latex": [
       "A data.frame: 3 × 17\n",
       "\\begin{tabular}{r|lllllllllllllllll}\n",
       "  & IDNO & BODYFAT & DENSITY & AGE & WEIGHT & HEIGHT & ADIPOSITY & NECK & CHEST & ABDOMEN & HIP & THIGH & KNEE & ANKLE & BICEPS & FOREARM & WRIST\\\\\n",
       "  & <int> & <dbl> & <dbl> & <int> & <dbl> & <dbl> & <dbl> & <dbl> & <dbl> & <dbl> & <dbl> & <dbl> & <dbl> & <dbl> & <dbl> & <dbl> & <dbl>\\\\\n",
       "\\hline\n",
       "\t48 & 48 &  6.4 & 1.0665 & 39 & 148.50 & 71.25 & 20.6 & 34.6 &  89.8 & 79.5 &  92.7 & 52.7 & 37.5 & 21.9 & 28.8 & 26.8 & 17.9\\\\\n",
       "\t76 & 76 & 18.3 & 1.0666 & 61 & 148.25 & 67.50 & 22.9 & 36.0 &  91.6 & 81.8 &  94.8 & 54.5 & 37.0 & 21.4 & 29.3 & 27.0 & 18.3\\\\\n",
       "\t96 & 96 & 17.3 & 1.0991 & 53 & 224.50 & 77.75 & 26.1 & 41.1 & 113.2 & 99.2 & 107.5 & 61.7 & 42.3 & 23.2 & 32.9 & 30.8 & 20.4\\\\\n",
       "\\end{tabular}\n"
      ],
      "text/markdown": [
       "\n",
       "A data.frame: 3 × 17\n",
       "\n",
       "| <!--/--> | IDNO &lt;int&gt; | BODYFAT &lt;dbl&gt; | DENSITY &lt;dbl&gt; | AGE &lt;int&gt; | WEIGHT &lt;dbl&gt; | HEIGHT &lt;dbl&gt; | ADIPOSITY &lt;dbl&gt; | NECK &lt;dbl&gt; | CHEST &lt;dbl&gt; | ABDOMEN &lt;dbl&gt; | HIP &lt;dbl&gt; | THIGH &lt;dbl&gt; | KNEE &lt;dbl&gt; | ANKLE &lt;dbl&gt; | BICEPS &lt;dbl&gt; | FOREARM &lt;dbl&gt; | WRIST &lt;dbl&gt; |\n",
       "|---|---|---|---|---|---|---|---|---|---|---|---|---|---|---|---|---|---|\n",
       "| 48 | 48 |  6.4 | 1.0665 | 39 | 148.50 | 71.25 | 20.6 | 34.6 |  89.8 | 79.5 |  92.7 | 52.7 | 37.5 | 21.9 | 28.8 | 26.8 | 17.9 |\n",
       "| 76 | 76 | 18.3 | 1.0666 | 61 | 148.25 | 67.50 | 22.9 | 36.0 |  91.6 | 81.8 |  94.8 | 54.5 | 37.0 | 21.4 | 29.3 | 27.0 | 18.3 |\n",
       "| 96 | 96 | 17.3 | 1.0991 | 53 | 224.50 | 77.75 | 26.1 | 41.1 | 113.2 | 99.2 | 107.5 | 61.7 | 42.3 | 23.2 | 32.9 | 30.8 | 20.4 |\n",
       "\n"
      ],
      "text/plain": [
       "   IDNO BODYFAT DENSITY AGE WEIGHT HEIGHT ADIPOSITY NECK CHEST ABDOMEN HIP  \n",
       "48 48    6.4    1.0665  39  148.50 71.25  20.6      34.6  89.8 79.5     92.7\n",
       "76 76   18.3    1.0666  61  148.25 67.50  22.9      36.0  91.6 81.8     94.8\n",
       "96 96   17.3    1.0991  53  224.50 77.75  26.1      41.1 113.2 99.2    107.5\n",
       "   THIGH KNEE ANKLE BICEPS FOREARM WRIST\n",
       "48 52.7  37.5 21.9  28.8   26.8    17.9 \n",
       "76 54.5  37.0 21.4  29.3   27.0    18.3 \n",
       "96 61.7  42.3 23.2  32.9   30.8    20.4 "
      ]
     },
     "metadata": {},
     "output_type": "display_data"
    }
   ],
   "source": [
    "BodyFatData[c(48, 76, 96),]"
   ]
  },
  {
   "cell_type": "markdown",
   "metadata": {},
   "source": [
    "Individual 96's other variables all have normal value, which indicates his desity might be wrongly recorded.\n",
    "\n",
    "Individual 48 and 76 have similar values in other variables, thus their body fat percentage should also be similar. Thus we use the Siri's equation to fix their body fat percentage."
   ]
  },
  {
   "cell_type": "markdown",
   "metadata": {},
   "source": [
    "## 2.3 Check the BMI Formula\n",
    "\n",
    "Known that the ADIPOSITY can be estimated using WEIGHT and HEIGHT. We build a linear model between the BMI estimated by equation and the ADIPOSITY in the data set. The residual plot and the QQ plot of this model is shown below. We can see that record 163, 220, 234 are possible outliers.\n",
    "\n",
    "![](plots/BMI.PNG)"
   ]
  },
  {
   "cell_type": "code",
   "execution_count": 29,
   "metadata": {},
   "outputs": [
    {
     "data": {
      "text/html": [
       "<table>\n",
       "<caption>A data.frame: 3 × 17</caption>\n",
       "<thead>\n",
       "\t<tr><th></th><th scope=col>IDNO</th><th scope=col>BODYFAT</th><th scope=col>DENSITY</th><th scope=col>AGE</th><th scope=col>WEIGHT</th><th scope=col>HEIGHT</th><th scope=col>ADIPOSITY</th><th scope=col>NECK</th><th scope=col>CHEST</th><th scope=col>ABDOMEN</th><th scope=col>HIP</th><th scope=col>THIGH</th><th scope=col>KNEE</th><th scope=col>ANKLE</th><th scope=col>BICEPS</th><th scope=col>FOREARM</th><th scope=col>WRIST</th></tr>\n",
       "\t<tr><th></th><th scope=col>&lt;int&gt;</th><th scope=col>&lt;dbl&gt;</th><th scope=col>&lt;dbl&gt;</th><th scope=col>&lt;int&gt;</th><th scope=col>&lt;dbl&gt;</th><th scope=col>&lt;dbl&gt;</th><th scope=col>&lt;dbl&gt;</th><th scope=col>&lt;dbl&gt;</th><th scope=col>&lt;dbl&gt;</th><th scope=col>&lt;dbl&gt;</th><th scope=col>&lt;dbl&gt;</th><th scope=col>&lt;dbl&gt;</th><th scope=col>&lt;dbl&gt;</th><th scope=col>&lt;dbl&gt;</th><th scope=col>&lt;dbl&gt;</th><th scope=col>&lt;dbl&gt;</th><th scope=col>&lt;dbl&gt;</th></tr>\n",
       "</thead>\n",
       "<tbody>\n",
       "\t<tr><th scope=row>163</th><td>163</td><td>13.3</td><td>1.0690</td><td>33</td><td>184.25</td><td>68.75</td><td>24.4</td><td>40.7</td><td>98.9</td><td>92.1</td><td>103.5</td><td>64.0</td><td>37.3</td><td>23.5</td><td>33.5</td><td>30.6</td><td>19.7</td></tr>\n",
       "\t<tr><th scope=row>220</th><td>220</td><td>15.1</td><td>1.0646</td><td>53</td><td>154.50</td><td>69.25</td><td>22.7</td><td>37.6</td><td>93.9</td><td>88.7</td><td> 94.5</td><td>53.7</td><td>36.2</td><td>22.0</td><td>28.5</td><td>25.7</td><td>17.1</td></tr>\n",
       "\t<tr><th scope=row>234</th><td>234</td><td>25.9</td><td>1.0384</td><td>58</td><td>161.75</td><td>67.25</td><td>25.2</td><td>35.1</td><td>94.9</td><td>94.9</td><td>100.2</td><td>56.8</td><td>35.9</td><td>21.0</td><td>27.8</td><td>26.1</td><td>17.6</td></tr>\n",
       "</tbody>\n",
       "</table>\n"
      ],
      "text/latex": [
       "A data.frame: 3 × 17\n",
       "\\begin{tabular}{r|lllllllllllllllll}\n",
       "  & IDNO & BODYFAT & DENSITY & AGE & WEIGHT & HEIGHT & ADIPOSITY & NECK & CHEST & ABDOMEN & HIP & THIGH & KNEE & ANKLE & BICEPS & FOREARM & WRIST\\\\\n",
       "  & <int> & <dbl> & <dbl> & <int> & <dbl> & <dbl> & <dbl> & <dbl> & <dbl> & <dbl> & <dbl> & <dbl> & <dbl> & <dbl> & <dbl> & <dbl> & <dbl>\\\\\n",
       "\\hline\n",
       "\t163 & 163 & 13.3 & 1.0690 & 33 & 184.25 & 68.75 & 24.4 & 40.7 & 98.9 & 92.1 & 103.5 & 64.0 & 37.3 & 23.5 & 33.5 & 30.6 & 19.7\\\\\n",
       "\t220 & 220 & 15.1 & 1.0646 & 53 & 154.50 & 69.25 & 22.7 & 37.6 & 93.9 & 88.7 &  94.5 & 53.7 & 36.2 & 22.0 & 28.5 & 25.7 & 17.1\\\\\n",
       "\t234 & 234 & 25.9 & 1.0384 & 58 & 161.75 & 67.25 & 25.2 & 35.1 & 94.9 & 94.9 & 100.2 & 56.8 & 35.9 & 21.0 & 27.8 & 26.1 & 17.6\\\\\n",
       "\\end{tabular}\n"
      ],
      "text/markdown": [
       "\n",
       "A data.frame: 3 × 17\n",
       "\n",
       "| <!--/--> | IDNO &lt;int&gt; | BODYFAT &lt;dbl&gt; | DENSITY &lt;dbl&gt; | AGE &lt;int&gt; | WEIGHT &lt;dbl&gt; | HEIGHT &lt;dbl&gt; | ADIPOSITY &lt;dbl&gt; | NECK &lt;dbl&gt; | CHEST &lt;dbl&gt; | ABDOMEN &lt;dbl&gt; | HIP &lt;dbl&gt; | THIGH &lt;dbl&gt; | KNEE &lt;dbl&gt; | ANKLE &lt;dbl&gt; | BICEPS &lt;dbl&gt; | FOREARM &lt;dbl&gt; | WRIST &lt;dbl&gt; |\n",
       "|---|---|---|---|---|---|---|---|---|---|---|---|---|---|---|---|---|---|\n",
       "| 163 | 163 | 13.3 | 1.0690 | 33 | 184.25 | 68.75 | 24.4 | 40.7 | 98.9 | 92.1 | 103.5 | 64.0 | 37.3 | 23.5 | 33.5 | 30.6 | 19.7 |\n",
       "| 220 | 220 | 15.1 | 1.0646 | 53 | 154.50 | 69.25 | 22.7 | 37.6 | 93.9 | 88.7 |  94.5 | 53.7 | 36.2 | 22.0 | 28.5 | 25.7 | 17.1 |\n",
       "| 234 | 234 | 25.9 | 1.0384 | 58 | 161.75 | 67.25 | 25.2 | 35.1 | 94.9 | 94.9 | 100.2 | 56.8 | 35.9 | 21.0 | 27.8 | 26.1 | 17.6 |\n",
       "\n"
      ],
      "text/plain": [
       "    IDNO BODYFAT DENSITY AGE WEIGHT HEIGHT ADIPOSITY NECK CHEST ABDOMEN HIP  \n",
       "163 163  13.3    1.0690  33  184.25 68.75  24.4      40.7 98.9  92.1    103.5\n",
       "220 220  15.1    1.0646  53  154.50 69.25  22.7      37.6 93.9  88.7     94.5\n",
       "234 234  25.9    1.0384  58  161.75 67.25  25.2      35.1 94.9  94.9    100.2\n",
       "    THIGH KNEE ANKLE BICEPS FOREARM WRIST\n",
       "163 64.0  37.3 23.5  33.5   30.6    19.7 \n",
       "220 53.7  36.2 22.0  28.5   25.7    17.1 \n",
       "234 56.8  35.9 21.0  27.8   26.1    17.6 "
      ]
     },
     "metadata": {},
     "output_type": "display_data"
    }
   ],
   "source": [
    "BodyFatData[c(163, 220, 234), ]"
   ]
  },
  {
   "cell_type": "markdown",
   "metadata": {},
   "source": [
    "For individual 163, 220, and 234, their weights vary a lot, which means their BMI should not be similar to each other. Thus we adopt the calculated BMI as their ADIPOSITY."
   ]
  },
  {
   "cell_type": "markdown",
   "metadata": {},
   "source": [
    "## 2.3 Data cleaning summary\n",
    " \n",
    "In conclusion:\n",
    "    \n",
    "Record **182** is filtered out because it has 0 body fat and there's no way to fix that.\n",
    "    \n",
    "The HEIGHT of record **42** is fixed according to the weight and adiposity.\n",
    "    \n",
    "The body fat of record **48** and **76** are fixed according to the density.\n",
    "    \n",
    "The adiposity of record **163**, **220**, and **234** are fixed according to the weight and height."
   ]
  },
  {
   "cell_type": "markdown",
   "metadata": {},
   "source": [
    "# 3 Variable Selection and Statistical Modeling\n",
    "\n",
    "## 3.1 Relationship between BodyFat and Predictors\n",
    "\n",
    "![](image/all_regression.jpeg)\n",
    "\n",
    "As we can see in this Figure, all the variables show the linear tendency, and some variable might have multicollinearity, so we try Lasso regression at first, we also use the Mallow's Cp, BIC forward and backward to select the variable.\n",
    "\n",
    "## 3.2 Variable and Model Selection\n",
    "\n",
    "| Method | ABDOMEN | WRIST | HEIGHT | WEIGHT | AGE |  R-squard|\n",
    "|------|------|------|------|------|------|------|\n",
    "| Lasso-1 | 0.50 | 0 | 0 | 0 | 0 | 0.641 |\n",
    "\n",
    "From the table, all the selected variables are reasonable   \n",
    "ABDOMEN: a direct reflection of body fat  \n",
    "WRIST and HEIGHT: an indicator of body frame  \n",
    "WEIGHT: refect body fat and muscle proportion\n",
    "\n",
    "\n",
    "### 3.2.1 **Stepwise Backward and Forward LR**  \n",
    "\n",
    "\n",
    "\n",
    "### 3.2.2 **Lasso Regression**\n",
    "\n",
    "\n",
    "\n",
    "### 3.2.3 **Xgboost**\n",
    "\n",
    "\n",
    "\n",
    "\n",
    "## 3.3 Model Interpretion \n",
    "\n",
    "\n",
    "\n",
    "## 3.4 Model Diagnostics\n",
    "\n",
    "\n",
    "### 3.4.1 **Using Plots**\n",
    "\n",
    "After model fitting, We diagnose the model assumptions with the standardized residual plot and the QQ plot.\n",
    "\n",
    "![](image/Qqplot.jpeg)\n",
    "\n",
    "### 3.4.2 **Using Outside Source**\n",
    "\n"
   ]
  },
  {
   "cell_type": "markdown",
   "metadata": {},
   "source": [
    "# 4 Conclusion\n",
    "\n",
    "\n",
    " \n",
    "## 4.1 Rule of Thumb \n",
    "\n",
    "Multiply your abdomen (cm) by.\n",
    "\n",
    "$$ Body\\ Fat\\ \\% =  \\beta_0 (Constant)  + \\beta_1 ABDOMEN (cm) $$\n",
    "\n",
    "\n",
    "\n",
    "## 4.2 Strength & Weekness\n",
    "\n",
    "Our model has the following strength:\n",
    "\n",
    "1. **Simplicity**\n",
    "\n",
    "2. **Robustness**\n",
    "\n",
    "3. **Interpretability**\n",
    "\n",
    "As for the weekness:\n",
    "\n",
    "1. **Precision**\n",
    "\n",
    "\n",
    "\n",
    "\n",
    "\n",
    "# 5 Contribution\n",
    "\n",
    "Jiawen Chen: \n",
    "\n",
    "Chunyuan Jin:\n",
    "\n",
    "Han Liao:"
   ]
  },
  {
   "cell_type": "code",
   "execution_count": null,
   "metadata": {},
   "outputs": [],
   "source": []
  }
 ],
 "metadata": {
  "kernelspec": {
   "display_name": "R",
   "language": "R",
   "name": "ir"
  },
  "language_info": {
   "codemirror_mode": "r",
   "file_extension": ".r",
   "mimetype": "text/x-r-source",
   "name": "R",
   "pygments_lexer": "r",
   "version": "3.5.2"
  },
  "widgets": {
   "state": {},
   "version": "1.1.2"
  }
 },
 "nbformat": 4,
 "nbformat_minor": 2
}
