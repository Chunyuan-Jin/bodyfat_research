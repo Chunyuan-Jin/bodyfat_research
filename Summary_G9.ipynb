{
 "cells": [
  {
   "cell_type": "markdown",
   "metadata": {},
   "source": [
    "# <h1 style=\"text-align:center\">Body Fat Calculator </h1>\n",
    "<h4 style=\"text-align:right\">Jiawen Chen, Chunyuan Jin, Han Liao </h4>\n",
    "\n",
    "\n",
    "\n",
    " \n",
    "# 1 Introduction\n",
    "\n",
    "\n",
    "## 1.1 Background\n",
    "\n",
    "<p> Body fat percentage is a measure of fitness level, which is not easy to obtain during clinical application. A popular way to estimate the body fat is by using the Siri's equation. However, body density is also hard to obtain. \n",
    "    \n",
    "<p> This project aims to come up with a simple, robust, accurate and precise “rule-of-thumb” method to estimate percentage of body fat using clinically available measurements.\n",
    "\n",
    "## 1.2 Description of Dataset\n",
    "\n",
    "\n",
    "### 1.2.1 Formula\n",
    "\n",
    "<p> The Siri's equation for estimating the **body fat B(%)** is\n",
    "\n",
    " $$ Body\\ Fat\\ \\%\\ (i.e. 100 \\times B) = \\frac{495}{D} - 450,\\ D = Body\\ Density\\ (gm/cm^{3})$$ \n",
    " \n",
    "\n",
    "<p> The formula for estimating **ADIPOSITY (BMI)** is\n",
    " \n",
    "$$ADIPOSITY\\ (BMI)= \\frac{Weight\\ (lbs) \\times 703}{[Height\\ (inch)]^2}$$"
   ]
  },
  {
   "cell_type": "markdown",
   "metadata": {},
   "source": [
    "### 1.2.2 Overview of the dataset"
   ]
  },
  {
   "cell_type": "markdown",
   "metadata": {},
   "source": [
    "We have **252** observations and **17** variables, their units are given in the parenthesis.\n",
    " \n",
    "* Response variable: Body fat in percentage\n",
    "* Predictors: Age (years), Weight (lbs), Height (inches), Adiposity (bmi), Neck circumference (cm), Chest circumference (cm), Abdomen circumference (cm), Hip circumference (cm), Thigh circumference (cm), Knee circumference (cm), Ankle circumference (cm), Biceps (extended) circumference (cm), Forearm circumference (cm), Wrist circumference (cm)"
   ]
  },
  {
   "cell_type": "markdown",
   "metadata": {},
   "source": [
    "# 2 Data Cleaning\n",
    "\n",
    "Our data cleaning process follows these criteria:\n",
    "\n",
    "1. Impute those variables which have abnormal values and can be fixed with their redundant variable.\n",
    "2. Filter out records which are abnormal and cannot be fixed.\n",
    "\n",
    "## 2.1 Use Summary Table to Check Extreme Values\n",
    "\n",
    "We use the summary table to get an overview of the data. What surprises us is the extreme values in some variables"
   ]
  },
  {
   "cell_type": "markdown",
   "metadata": {},
   "source": [
    "From the summary table, we can see there exist extreme values in the some variables.\n",
    "\n",
    "<img src=\"plots/summary.png\" alt=\"Drawing\" style=\"width: 500px;\"/>\n",
    "\n",
    "The observations that have extreme values are \n",
    "\n",
    "<img src=\"plots/data1.png\" alt=\"Drawing\" style=\"width: 750px;\"/>"
   ]
  },
  {
   "cell_type": "markdown",
   "metadata": {},
   "source": [
    "**BODYFAT** is the response variable whose reasonable value ranges from 2% to 39%. \n",
    "Individual 172 has lowest possible body fat, which can be considered as essential fat;\n",
    "Individual 216 is sever obesity, which is possible;\n",
    "Individual 182, it's impossible to have 0% of bodyfat, and after checking the siri's equation to his density, the corresponding bodyfat becomes negative, thus we filter this records out of our analysis.\n",
    "\n",
    "There also exists extreme value in **WEIGHT**, which occurs in individual 39. This man also has the largest value in  ADIPOSITY, NECK, CHEST, ABDOMEN, HIP, THIGH, KNEE, BICEPS, and WRIST. Which indicates that this record does exist.\n",
    "\n",
    "As for **HEIGHT**, individual 42's height is only 29.5 which is quite abnormal. After checking the corresponding weight by BMI formula, we can assume that this is a wrong record. Thus we fix his height by applying the BMI formula."
   ]
  },
  {
   "cell_type": "markdown",
   "metadata": {},
   "source": [
    "\n",
    "## 2.2 Check Siri's Equation\n",
    "\n",
    "Known that the body fat percentage can be estimated by the density with the Siri's equation. We build a linear model between the bodyfat percentage estimated by Siri's equation and the bodyfat percentage in the data set. The residual plot and the QQ plot of this model is shown below. We can see that record 48, 76, 96 are possible outliers. \n",
    "\n",
    "<img src=\"plots/data2_1.png\" alt=\"Drawing\" style=\"width: 750px;\"/>"
   ]
  },
  {
   "cell_type": "markdown",
   "metadata": {},
   "source": [
    "Individual 96's other variables all have normal value, which indicates his desity might be wrongly recorded.\n",
    "\n",
    "Individual 48 and 76 have similar values in other variables, thus their body fat percentage should also be similar. Thus we use the Siri's equation to fix their body fat percentage."
   ]
  },
  {
   "cell_type": "markdown",
   "metadata": {},
   "source": [
    "## 2.3 Check the BMI Formula\n",
    "\n",
    "Known that the ADIPOSITY can be estimated using WEIGHT and HEIGHT. We build a linear model between the BMI estimated by equation and the ADIPOSITY in the data set. The residual plot and the QQ plot of this model is shown below. We can see that record 163, 220, 234 are possible outliers.\n",
    "\n",
    "<img src=\"plots/data3_1.png\" alt=\"Drawing\" style=\"width: 750px;\"/>"
   ]
  },
  {
   "cell_type": "markdown",
   "metadata": {},
   "source": [
    "For individual 163, 220, and 234, their weights vary a lot, which means their BMI should not be similar to each other. Thus we adopt the calculated BMI as their ADIPOSITY."
   ]
  },
  {
   "cell_type": "markdown",
   "metadata": {},
   "source": [
    "## 2.3 Data cleaning summary\n",
    " \n",
    "In conclusion:\n",
    "    \n",
    "Record **182** is filtered out because it has 0 body fat and there's no way to fix that.\n",
    "    \n",
    "The HEIGHT of record **42** is fixed according to the weight and adiposity.\n",
    "    \n",
    "The body fat of record **48** and **76** are fixed according to the density.\n",
    "    \n",
    "The adiposity of record **163**, **220**, and **234** are fixed according to the weight and height."
   ]
  },
  {
   "cell_type": "markdown",
   "metadata": {},
   "source": [
    "# 3 Variable Selection and Statistical Modeling\n",
    "\n",
    "## 3.1 Variable Selection \n",
    "### Stepwise Backward and Forward LR\n",
    "Considering there is a tradeoff between model variance and accuracy, we'd better not use all 14 predictors to establish the model. Although the mean square of error (MSE) will be small, the model itself will be unstable. Firstly, we try normal linear regression using the stepwise method to select features. We chose BIC as criterions and directions of forward and backward. The result was shown respectively."
   ]
  },
  {
   "cell_type": "code",
   "execution_count": 14,
   "metadata": {},
   "outputs": [
    {
     "data": {
      "text/html": [
       "<table>\n",
       "<caption>A data.frame: 6 × 17</caption>\n",
       "<thead>\n",
       "\t<tr><th scope=col>X1</th><th scope=col>X12.6</th><th scope=col>X1.0708</th><th scope=col>X23</th><th scope=col>X154.25</th><th scope=col>X67.75</th><th scope=col>X23.7</th><th scope=col>X36.2</th><th scope=col>X93.1</th><th scope=col>X85.2</th><th scope=col>X94.5</th><th scope=col>X59</th><th scope=col>X37.3</th><th scope=col>X21.9</th><th scope=col>X32</th><th scope=col>X27.4</th><th scope=col>X17.1</th></tr>\n",
       "\t<tr><th scope=col>&lt;int&gt;</th><th scope=col>&lt;dbl&gt;</th><th scope=col>&lt;dbl&gt;</th><th scope=col>&lt;int&gt;</th><th scope=col>&lt;dbl&gt;</th><th scope=col>&lt;dbl&gt;</th><th scope=col>&lt;dbl&gt;</th><th scope=col>&lt;dbl&gt;</th><th scope=col>&lt;dbl&gt;</th><th scope=col>&lt;dbl&gt;</th><th scope=col>&lt;dbl&gt;</th><th scope=col>&lt;dbl&gt;</th><th scope=col>&lt;dbl&gt;</th><th scope=col>&lt;dbl&gt;</th><th scope=col>&lt;dbl&gt;</th><th scope=col>&lt;dbl&gt;</th><th scope=col>&lt;dbl&gt;</th></tr>\n",
       "</thead>\n",
       "<tbody>\n",
       "\t<tr><td>2</td><td> 6.9</td><td>1.0853</td><td>22</td><td>173.25</td><td>72.25</td><td>23.4</td><td>38.5</td><td> 93.6</td><td> 83.0</td><td> 98.7</td><td>58.7</td><td>37.3</td><td>23.4</td><td>30.5</td><td>28.9</td><td>18.2</td></tr>\n",
       "\t<tr><td>3</td><td>24.6</td><td>1.0414</td><td>22</td><td>154.00</td><td>66.25</td><td>24.7</td><td>34.0</td><td> 95.8</td><td> 87.9</td><td> 99.2</td><td>59.6</td><td>38.9</td><td>24.0</td><td>28.8</td><td>25.2</td><td>16.6</td></tr>\n",
       "\t<tr><td>4</td><td>10.9</td><td>1.0751</td><td>26</td><td>184.75</td><td>72.25</td><td>24.9</td><td>37.4</td><td>101.8</td><td> 86.4</td><td>101.2</td><td>60.1</td><td>37.3</td><td>22.8</td><td>32.4</td><td>29.4</td><td>18.2</td></tr>\n",
       "\t<tr><td>5</td><td>27.8</td><td>1.0340</td><td>24</td><td>184.25</td><td>71.25</td><td>25.6</td><td>34.4</td><td> 97.3</td><td>100.0</td><td>101.9</td><td>63.2</td><td>42.2</td><td>24.0</td><td>32.2</td><td>27.7</td><td>17.7</td></tr>\n",
       "\t<tr><td>6</td><td>20.6</td><td>1.0502</td><td>24</td><td>210.25</td><td>74.75</td><td>26.5</td><td>39.0</td><td>104.5</td><td> 94.4</td><td>107.8</td><td>66.0</td><td>42.0</td><td>25.6</td><td>35.7</td><td>30.6</td><td>18.8</td></tr>\n",
       "\t<tr><td>7</td><td>19.0</td><td>1.0549</td><td>26</td><td>181.00</td><td>69.75</td><td>26.2</td><td>36.4</td><td>105.1</td><td> 90.7</td><td>100.3</td><td>58.4</td><td>38.3</td><td>22.9</td><td>31.9</td><td>27.8</td><td>17.7</td></tr>\n",
       "</tbody>\n",
       "</table>\n"
      ],
      "text/latex": [
       "A data.frame: 6 × 17\n",
       "\\begin{tabular}{r|lllllllllllllllll}\n",
       " X1 & X12.6 & X1.0708 & X23 & X154.25 & X67.75 & X23.7 & X36.2 & X93.1 & X85.2 & X94.5 & X59 & X37.3 & X21.9 & X32 & X27.4 & X17.1\\\\\n",
       " <int> & <dbl> & <dbl> & <int> & <dbl> & <dbl> & <dbl> & <dbl> & <dbl> & <dbl> & <dbl> & <dbl> & <dbl> & <dbl> & <dbl> & <dbl> & <dbl>\\\\\n",
       "\\hline\n",
       "\t 2 &  6.9 & 1.0853 & 22 & 173.25 & 72.25 & 23.4 & 38.5 &  93.6 &  83.0 &  98.7 & 58.7 & 37.3 & 23.4 & 30.5 & 28.9 & 18.2\\\\\n",
       "\t 3 & 24.6 & 1.0414 & 22 & 154.00 & 66.25 & 24.7 & 34.0 &  95.8 &  87.9 &  99.2 & 59.6 & 38.9 & 24.0 & 28.8 & 25.2 & 16.6\\\\\n",
       "\t 4 & 10.9 & 1.0751 & 26 & 184.75 & 72.25 & 24.9 & 37.4 & 101.8 &  86.4 & 101.2 & 60.1 & 37.3 & 22.8 & 32.4 & 29.4 & 18.2\\\\\n",
       "\t 5 & 27.8 & 1.0340 & 24 & 184.25 & 71.25 & 25.6 & 34.4 &  97.3 & 100.0 & 101.9 & 63.2 & 42.2 & 24.0 & 32.2 & 27.7 & 17.7\\\\\n",
       "\t 6 & 20.6 & 1.0502 & 24 & 210.25 & 74.75 & 26.5 & 39.0 & 104.5 &  94.4 & 107.8 & 66.0 & 42.0 & 25.6 & 35.7 & 30.6 & 18.8\\\\\n",
       "\t 7 & 19.0 & 1.0549 & 26 & 181.00 & 69.75 & 26.2 & 36.4 & 105.1 &  90.7 & 100.3 & 58.4 & 38.3 & 22.9 & 31.9 & 27.8 & 17.7\\\\\n",
       "\\end{tabular}\n"
      ],
      "text/markdown": [
       "\n",
       "A data.frame: 6 × 17\n",
       "\n",
       "| X1 &lt;int&gt; | X12.6 &lt;dbl&gt; | X1.0708 &lt;dbl&gt; | X23 &lt;int&gt; | X154.25 &lt;dbl&gt; | X67.75 &lt;dbl&gt; | X23.7 &lt;dbl&gt; | X36.2 &lt;dbl&gt; | X93.1 &lt;dbl&gt; | X85.2 &lt;dbl&gt; | X94.5 &lt;dbl&gt; | X59 &lt;dbl&gt; | X37.3 &lt;dbl&gt; | X21.9 &lt;dbl&gt; | X32 &lt;dbl&gt; | X27.4 &lt;dbl&gt; | X17.1 &lt;dbl&gt; |\n",
       "|---|---|---|---|---|---|---|---|---|---|---|---|---|---|---|---|---|\n",
       "| 2 |  6.9 | 1.0853 | 22 | 173.25 | 72.25 | 23.4 | 38.5 |  93.6 |  83.0 |  98.7 | 58.7 | 37.3 | 23.4 | 30.5 | 28.9 | 18.2 |\n",
       "| 3 | 24.6 | 1.0414 | 22 | 154.00 | 66.25 | 24.7 | 34.0 |  95.8 |  87.9 |  99.2 | 59.6 | 38.9 | 24.0 | 28.8 | 25.2 | 16.6 |\n",
       "| 4 | 10.9 | 1.0751 | 26 | 184.75 | 72.25 | 24.9 | 37.4 | 101.8 |  86.4 | 101.2 | 60.1 | 37.3 | 22.8 | 32.4 | 29.4 | 18.2 |\n",
       "| 5 | 27.8 | 1.0340 | 24 | 184.25 | 71.25 | 25.6 | 34.4 |  97.3 | 100.0 | 101.9 | 63.2 | 42.2 | 24.0 | 32.2 | 27.7 | 17.7 |\n",
       "| 6 | 20.6 | 1.0502 | 24 | 210.25 | 74.75 | 26.5 | 39.0 | 104.5 |  94.4 | 107.8 | 66.0 | 42.0 | 25.6 | 35.7 | 30.6 | 18.8 |\n",
       "| 7 | 19.0 | 1.0549 | 26 | 181.00 | 69.75 | 26.2 | 36.4 | 105.1 |  90.7 | 100.3 | 58.4 | 38.3 | 22.9 | 31.9 | 27.8 | 17.7 |\n",
       "\n"
      ],
      "text/plain": [
       "  X1 X12.6 X1.0708 X23 X154.25 X67.75 X23.7 X36.2 X93.1 X85.2 X94.5 X59  X37.3\n",
       "1 2   6.9  1.0853  22  173.25  72.25  23.4  38.5   93.6  83.0  98.7 58.7 37.3 \n",
       "2 3  24.6  1.0414  22  154.00  66.25  24.7  34.0   95.8  87.9  99.2 59.6 38.9 \n",
       "3 4  10.9  1.0751  26  184.75  72.25  24.9  37.4  101.8  86.4 101.2 60.1 37.3 \n",
       "4 5  27.8  1.0340  24  184.25  71.25  25.6  34.4   97.3 100.0 101.9 63.2 42.2 \n",
       "5 6  20.6  1.0502  24  210.25  74.75  26.5  39.0  104.5  94.4 107.8 66.0 42.0 \n",
       "6 7  19.0  1.0549  26  181.00  69.75  26.2  36.4  105.1  90.7 100.3 58.4 38.3 \n",
       "  X21.9 X32  X27.4 X17.1\n",
       "1 23.4  30.5 28.9  18.2 \n",
       "2 24.0  28.8 25.2  16.6 \n",
       "3 22.8  32.4 29.4  18.2 \n",
       "4 24.0  32.2 27.7  17.7 \n",
       "5 25.6  35.7 30.6  18.8 \n",
       "6 22.9  31.9 27.8  17.7 "
      ]
     },
     "metadata": {},
     "output_type": "display_data"
    }
   ],
   "source": [
    "BodyFatData <-read.csv(\"data/CleanData.csv\")\n",
    "summary(lm(BODYFAT ~ WEIGHT + ABDOMEN + FOREARM + WRIST, data = BodyFatData[, c(2, 4:17)]))#  use backward stepwise method with BIC"
   ]
  },
  {
   "cell_type": "markdown",
   "metadata": {},
   "source": [
    "The results of backward and forward method are the same, WEIGHT, ABDOMEN, FOREARM, WRIST were chosen as predictors and they are all significant. R-square of the model is 0.736, which indicates the accuracy of the model is quite good.  However,  in the linear model, colinearity of predictors will increase the variance of model. VIF is a value to identify colinearity. There are colineary between variables if VIF is larger than 5."
   ]
  },
  {
   "cell_type": "code",
   "execution_count": 16,
   "metadata": {},
   "outputs": [
    {
     "data": {
      "text/html": [
       "<dl class=dl-horizontal>\n",
       "\t<dt>ABDOMEN</dt>\n",
       "\t\t<dd>FALSE</dd>\n",
       "\t<dt>WEIGHT</dt>\n",
       "\t\t<dd>TRUE</dd>\n",
       "\t<dt>WRIST</dt>\n",
       "\t\t<dd>FALSE</dd>\n",
       "\t<dt>FOREARM</dt>\n",
       "\t\t<dd>FALSE</dd>\n",
       "</dl>\n"
      ],
      "text/latex": [
       "\\begin{description*}\n",
       "\\item[ABDOMEN] FALSE\n",
       "\\item[WEIGHT] TRUE\n",
       "\\item[WRIST] FALSE\n",
       "\\item[FOREARM] FALSE\n",
       "\\end{description*}\n"
      ],
      "text/markdown": [
       "ABDOMEN\n",
       ":   FALSEWEIGHT\n",
       ":   TRUEWRIST\n",
       ":   FALSEFOREARM\n",
       ":   FALSE\n",
       "\n"
      ],
      "text/plain": [
       "ABDOMEN  WEIGHT   WRIST FOREARM \n",
       "  FALSE    TRUE   FALSE   FALSE "
      ]
     },
     "metadata": {},
     "output_type": "display_data"
    }
   ],
   "source": [
    "library(car)\n",
    "LR_backward<-lm(formula = BODYFAT ~ ABDOMEN + WEIGHT + WRIST + FOREARM, \n",
    "            data = BodyFatData[, c(2,4:17)])\n",
    "vif(LR_backward)>5"
   ]
  },
  {
   "cell_type": "markdown",
   "metadata": {},
   "source": [
    "The model is still unstable, so we try other methods to do variable selection."
   ]
  },
  {
   "cell_type": "markdown",
   "metadata": {},
   "source": [
    "### Variable Selection with XGBoost\n",
    "XGBoost is an ensemble learning method with tree models. It will output the importance of variables after establishing the model. The criterion for ranking predictors is how many times the variable is chosen as the node in decision trees. The more frequent it is chosen the larger score it will get. Moreover, if the variable is chosen near root of tree, the score will has a large weight because its influence to the decision tree is large."
   ]
  },
  {
   "cell_type": "markdown",
   "metadata": {},
   "source": [
    "![](plots/xgboost.png)"
   ]
  },
  {
   "cell_type": "markdown",
   "metadata": {},
   "source": [
    "## 3.2 Stable Statistical Model\n",
    "In both of our methods, we find that ABDOMEN is the most important variable among 14 predictors. WEIGHT ranks high in both methods comparing with other variables. WRIST is significant in linear stepwise model and ADIPOSITY scores high in nonlinear model. Considering the rule of thumb, we select ABDOMEN as our first variable in predicting body fat. Also, to increase the accuracy we choose another variable among WRIST, WEIGHT, ADIPOSITY as our second variable. The number of predictors are too small to use any tree model or ensemble method in machine learning. We still choose normal linear regression as our model. The colinearity are not significant between two variables, so we may not add regulization to our model. After comparing three models, we choose ABDOMEN and WEIGHT as our predictors, because it has highest R-square 0.72."
   ]
  },
  {
   "cell_type": "code",
   "execution_count": 21,
   "metadata": {},
   "outputs": [
    {
     "data": {
      "text/plain": [
       "\n",
       "Call:\n",
       "lm(formula = BODYFAT ~ ABDOMEN + WEIGHT, data = BodyFatData[, \n",
       "    c(\"BODYFAT\", \"WEIGHT\", \"ABDOMEN\")])\n",
       "\n",
       "Residuals:\n",
       "     Min       1Q   Median       3Q      Max \n",
       "-10.3183  -2.9808   0.0981   2.8756   9.6169 \n",
       "\n",
       "Coefficients:\n",
       "             Estimate Std. Error t value Pr(>|t|)    \n",
       "(Intercept) -40.77528    2.39583 -17.019  < 2e-16 ***\n",
       "ABDOMEN       0.91797    0.05203  17.642  < 2e-16 ***\n",
       "WEIGHT       -0.14060    0.01911  -7.358 2.78e-12 ***\n",
       "---\n",
       "Signif. codes:  0 ‘***’ 0.001 ‘**’ 0.01 ‘*’ 0.05 ‘.’ 0.1 ‘ ’ 1\n",
       "\n",
       "Residual standard error: 4.063 on 246 degrees of freedom\n",
       "Multiple R-squared:  0.7206,\tAdjusted R-squared:  0.7183 \n",
       "F-statistic: 317.2 on 2 and 246 DF,  p-value: < 2.2e-16\n"
      ]
     },
     "metadata": {},
     "output_type": "display_data"
    }
   ],
   "source": [
    "fit1<-lm(formula = BODYFAT ~ ABDOMEN + WEIGHT, \n",
    "            data = BodyFatData[, c(\"BODYFAT\", \"WEIGHT\", \"ABDOMEN\")])\n",
    "summary(fit1)"
   ]
  },
  {
   "cell_type": "markdown",
   "metadata": {},
   "source": [
    "## 3.3 Model Diagnostics\n",
    "Firstly, use VIF to check colinearity. There is no obvious colinearity between ABDOMEN and WEIGHT."
   ]
  },
  {
   "cell_type": "code",
   "execution_count": 22,
   "metadata": {},
   "outputs": [
    {
     "data": {
      "text/html": [
       "<dl class=dl-horizontal>\n",
       "\t<dt>ABDOMEN</dt>\n",
       "\t\t<dd>FALSE</dd>\n",
       "\t<dt>WEIGHT</dt>\n",
       "\t\t<dd>FALSE</dd>\n",
       "</dl>\n"
      ],
      "text/latex": [
       "\\begin{description*}\n",
       "\\item[ABDOMEN] FALSE\n",
       "\\item[WEIGHT] FALSE\n",
       "\\end{description*}\n"
      ],
      "text/markdown": [
       "ABDOMEN\n",
       ":   FALSEWEIGHT\n",
       ":   FALSE\n",
       "\n"
      ],
      "text/plain": [
       "ABDOMEN  WEIGHT \n",
       "  FALSE   FALSE "
      ]
     },
     "metadata": {},
     "output_type": "display_data"
    }
   ],
   "source": [
    "vif(fit1)>5"
   ]
  },
  {
   "cell_type": "markdown",
   "metadata": {},
   "source": [
    "Then, plot the residuals vs fitted values. Residuals are seperated randomly near 0 and there is no correlation between fitted value and residuals. Also, there is no correlation between residuals and predictors.\n",
    "![](plots/res.png)"
   ]
  },
  {
   "cell_type": "markdown",
   "metadata": {},
   "source": [
    "QQ-plot of residuals show that residuals generally follows normal distribution. It is normal that there are still some outliers in the model.\n",
    "![](plots/outlier.png)"
   ]
  },
  {
   "cell_type": "markdown",
   "metadata": {},
   "source": [
    "# 4 Conclusion\n",
    "\n",
    "\n",
    " \n",
    "## 4.1 Rule of Thumb \n",
    "\n",
    "Multiply your abdomen (cm) by.\n",
    "\n",
    "$$ Body\\ Fat\\ \\% =  -40.77528 + 0.91797*ABDOMEN (cm) - 0.14060*WEIGHT(lbs) $$\n",
    "\n",
    "\n",
    "\n",
    "## 4.2 Strength & Weekness\n",
    "\n",
    "Our model has the following strength:\n",
    "\n",
    "1. **Simplicity**\n",
    "\n",
    "2. **Robustness**\n",
    "\n",
    "3. **Interpretability**\n",
    "\n",
    "As for the weekness:\n",
    "\n",
    "**Only use two predictors, some information from other predictors may be ignored.**\n",
    "\n",
    "\n",
    "\n",
    "\n",
    "\n",
    "# 5 Contribution\n",
    "\n",
    "Jiawen Chen: \n",
    "\n",
    "Chunyuan Jin:\n",
    "\n",
    "Han Liao:"
   ]
  },
  {
   "cell_type": "code",
   "execution_count": null,
   "metadata": {},
   "outputs": [],
   "source": []
  }
 ],
 "metadata": {
  "kernelspec": {
   "display_name": "R",
   "language": "R",
   "name": "ir"
  },
  "language_info": {
   "codemirror_mode": "r",
   "file_extension": ".r",
   "mimetype": "text/x-r-source",
   "name": "R",
   "pygments_lexer": "r",
   "version": "3.5.2"
  },
  "widgets": {
   "state": {},
   "version": "1.1.2"
  }
 },
 "nbformat": 4,
 "nbformat_minor": 2
}
