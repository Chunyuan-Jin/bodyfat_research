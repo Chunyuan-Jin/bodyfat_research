{
 "cells": [
  {
   "cell_type": "markdown",
   "metadata": {},
   "source": [
    "# <h1 style=\"text-align:center\">Body Fat Calculator </h1>\n",
    "<h4 style=\"text-align:right\">Jiawen Chen, Chunyuan Jin, Han Liao </h4>\n",
    "\n",
    "\n",
    "\n",
    " \n",
    "# Introduction\n",
    "\n",
    "\n",
    "## Background\n",
    "\n",
    "<p> Body fat percentage is a measure of fitness level, which is not easy to obtain during clinical application. A popular way to estimate the body fat is by using the Siri's equation. However, body density is also hard to obtain. \n",
    "    \n",
    "<p> This project aims to come up with a simple, robust, accurate and precise “rule-of-thumb” method to estimate percentage of body fat using clinically available measurements.\n",
    "\n",
    "## Description of Dataset\n",
    "\n",
    "\n",
    "### Formula\n",
    "\n",
    "<p> The Siri's equation for estimating the **body fat B(%)** is\n",
    "\n",
    " $$ Body\\ Fat\\ \\%\\ (i.e. 100 \\times B) = \\frac{495}{D} - 450,\\ D = Body\\ Density\\ (gm/cm^{3})$$ \n",
    " \n",
    "\n",
    "<p> The formula for estimating **ADIPOSITY (BMI)** is\n",
    " \n",
    "$$ADIPOSITY\\ (BMI)= \\frac{Weight\\ (lbs) \\times 703}{[Height\\ (inch)]^2}$$"
   ]
  },
  {
   "cell_type": "markdown",
   "metadata": {},
   "source": [
    "### Overview of the dataset"
   ]
  },
  {
   "cell_type": "markdown",
   "metadata": {},
   "source": [
    "We have **252** observations and **17** variables, their units are given in the parenthesis.\n",
    " \n",
    "* Response variable: Body fat in percentage\n",
    "* Predictors: Age (years), Weight (lbs), Height (inches), Adiposity (bmi), Neck circumference (cm), Chest circumference (cm), Abdomen circumference (cm), Hip circumference (cm), Thigh circumference (cm), Knee circumference (cm), Ankle circumference (cm), Biceps (extended) circumference (cm), Forearm circumference (cm), Wrist circumference (cm)"
   ]
  },
  {
   "cell_type": "markdown",
   "metadata": {},
   "source": [
    "# Data Cleaning\n",
    "\n",
    "Our data cleaning process follows these criteria:\n",
    "\n",
    "1. Impute those variables which have abnormal values and can be fixed with their redundant variable.\n",
    "2. Filter out records which are abnormal and cannot be fixed.\n",
    "\n",
    "## Use Summary Table to Check Extreme Values\n",
    "\n",
    "We use the summary table to get an overview of the data. What surprises us is the extreme values in some variables"
   ]
  },
  {
<<<<<<< HEAD
   "cell_type": "markdown",
   "metadata": {},
   "source": [
    "From the summary table, we can see there exist extreme values in the some variables.\n",
    "\n",
    "<img src=\"plots/summary.png\" alt=\"Drawing\" style=\"width: 500px;\"/>\n",
    "\n",
    "The observations that have extreme values are \n",
    "\n",
    "<img src=\"plots/data1.png\" alt=\"Drawing\" style=\"width: 750px;\"/>"
=======
   "cell_type": "code",
   "execution_count": 1,
   "metadata": {},
   "outputs": [
    {
     "data": {
      "text/plain": [
       "    BODYFAT         DENSITY          WEIGHT          HEIGHT     \n",
       " Min.   : 0.00   Min.   :0.995   Min.   :118.5   Min.   :29.50  \n",
       " 1st Qu.:12.80   1st Qu.:1.041   1st Qu.:159.0   1st Qu.:68.25  \n",
       " Median :19.00   Median :1.055   Median :176.5   Median :70.00  \n",
       " Mean   :18.94   Mean   :1.056   Mean   :178.9   Mean   :70.15  \n",
       " 3rd Qu.:24.60   3rd Qu.:1.070   3rd Qu.:197.0   3rd Qu.:72.25  \n",
       " Max.   :45.10   Max.   :1.109   Max.   :363.1   Max.   :77.75  \n",
       "   ADIPOSITY    \n",
       " Min.   :18.10  \n",
       " 1st Qu.:23.10  \n",
       " Median :25.05  \n",
       " Mean   :25.44  \n",
       " 3rd Qu.:27.32  \n",
       " Max.   :48.90  "
      ]
     },
     "metadata": {},
     "output_type": "display_data"
    }
   ],
   "source": [
    "BodyFatData = read.csv(\"data/BodyFat.csv\")\n",
    "summary(BodyFatData[, c(2,3,5:7)]) "
   ]
  },
  {
   "cell_type": "markdown",
   "metadata": {},
   "source": [
    "From the summary table, we can see there exist extreme values in the some variables."
   ]
  },
  {
   "cell_type": "code",
   "execution_count": 2,
   "metadata": {},
   "outputs": [
    {
     "data": {
      "text/html": [
       "<table>\n",
       "<caption>A data.frame: 5 × 5</caption>\n",
       "<thead>\n",
       "\t<tr><th></th><th scope=col>BODYFAT</th><th scope=col>DENSITY</th><th scope=col>WEIGHT</th><th scope=col>HEIGHT</th><th scope=col>ADIPOSITY</th></tr>\n",
       "\t<tr><th></th><th scope=col>&lt;dbl&gt;</th><th scope=col>&lt;dbl&gt;</th><th scope=col>&lt;dbl&gt;</th><th scope=col>&lt;dbl&gt;</th><th scope=col>&lt;dbl&gt;</th></tr>\n",
       "</thead>\n",
       "<tbody>\n",
       "\t<tr><th scope=row>172</th><td> 1.9</td><td>1.0983</td><td>125.75</td><td>65.50</td><td>20.6</td></tr>\n",
       "\t<tr><th scope=row>182</th><td> 0.0</td><td>1.1089</td><td>118.50</td><td>68.00</td><td>18.1</td></tr>\n",
       "\t<tr><th scope=row>216</th><td>45.1</td><td>0.9950</td><td>219.00</td><td>64.00</td><td>37.6</td></tr>\n",
       "\t<tr><th scope=row>39</th><td>33.8</td><td>1.0202</td><td>363.15</td><td>72.25</td><td>48.9</td></tr>\n",
       "\t<tr><th scope=row>42</th><td>31.7</td><td>1.0250</td><td>205.00</td><td>29.50</td><td>29.9</td></tr>\n",
       "</tbody>\n",
       "</table>\n"
      ],
      "text/latex": [
       "A data.frame: 5 × 5\n",
       "\\begin{tabular}{r|lllll}\n",
       "  & BODYFAT & DENSITY & WEIGHT & HEIGHT & ADIPOSITY\\\\\n",
       "  & <dbl> & <dbl> & <dbl> & <dbl> & <dbl>\\\\\n",
       "\\hline\n",
       "\t172 &  1.9 & 1.0983 & 125.75 & 65.50 & 20.6\\\\\n",
       "\t182 &  0.0 & 1.1089 & 118.50 & 68.00 & 18.1\\\\\n",
       "\t216 & 45.1 & 0.9950 & 219.00 & 64.00 & 37.6\\\\\n",
       "\t39 & 33.8 & 1.0202 & 363.15 & 72.25 & 48.9\\\\\n",
       "\t42 & 31.7 & 1.0250 & 205.00 & 29.50 & 29.9\\\\\n",
       "\\end{tabular}\n"
      ],
      "text/markdown": [
       "\n",
       "A data.frame: 5 × 5\n",
       "\n",
       "| <!--/--> | BODYFAT &lt;dbl&gt; | DENSITY &lt;dbl&gt; | WEIGHT &lt;dbl&gt; | HEIGHT &lt;dbl&gt; | ADIPOSITY &lt;dbl&gt; |\n",
       "|---|---|---|---|---|---|\n",
       "| 172 |  1.9 | 1.0983 | 125.75 | 65.50 | 20.6 |\n",
       "| 182 |  0.0 | 1.1089 | 118.50 | 68.00 | 18.1 |\n",
       "| 216 | 45.1 | 0.9950 | 219.00 | 64.00 | 37.6 |\n",
       "| 39 | 33.8 | 1.0202 | 363.15 | 72.25 | 48.9 |\n",
       "| 42 | 31.7 | 1.0250 | 205.00 | 29.50 | 29.9 |\n",
       "\n"
      ],
      "text/plain": [
       "    BODYFAT DENSITY WEIGHT HEIGHT ADIPOSITY\n",
       "172  1.9    1.0983  125.75 65.50  20.6     \n",
       "182  0.0    1.1089  118.50 68.00  18.1     \n",
       "216 45.1    0.9950  219.00 64.00  37.6     \n",
       "39  33.8    1.0202  363.15 72.25  48.9     \n",
       "42  31.7    1.0250  205.00 29.50  29.9     "
      ]
     },
     "metadata": {},
     "output_type": "display_data"
    }
   ],
   "source": [
    "BodyFatData[c(172, 182, 216, 39, 42),c(2,3,5:7)]"
>>>>>>> 443bd40bfa88c34d259f6b33529523e3a44bee8d
   ]
  },
  {
   "cell_type": "markdown",
   "metadata": {},
   "source": [
    "**BODYFAT** is the response variable whose reasonable value ranges from 2% to 39%. \n",
    "Individual 172 has lowest possible body fat, which can be considered as essential fat;\n",
    "Individual 216 is sever obesity, which is possible;\n",
    "Individual 182, it's impossible to have 0% of bodyfat, and after checking the siri's equation to his density, the corresponding bodyfat becomes negative, thus we filter this records out of our analysis.\n",
    "\n",
    "There also exists extreme value in **WEIGHT**, which occurs in individual 39. This man also has the largest value in  ADIPOSITY, NECK, CHEST, ABDOMEN, HIP, THIGH, KNEE, BICEPS, and WRIST. Which indicates that this record does exist.\n",
    "\n",
    "As for **HEIGHT**, individual 42's height is only 29.5 which is quite abnormal. After checking the corresponding weight by BMI formula, we can assume that this is a wrong record. Thus we fix his height by applying the BMI formula."
   ]
  },
  {
   "cell_type": "markdown",
   "metadata": {},
   "source": [
    "\n",
    "## Check Siri's Equation\n",
    "\n",
<<<<<<< HEAD
    "Known that the body fat percentage can be estimated by the density with the Siri's equation. We build a linear model between the bodyfat percentage estimated by Siri's equation and the bodyfat percentage in the data set. The residual plot and the QQ plot of this model is shown below. We can see that record 48, 76, 96 are possible outliers. \n",
    "\n",
    "<img src=\"plots/data2_1.png\" alt=\"Drawing\" style=\"width: 750px;\"/>"
=======
    "Known that the body fat percentage can be estimated by the density with the Siri's equation. We build a linear model between the bodyfat percentage estimated by Siri's equation and the bodyfat percentage in the data set. The residual plot and the QQ plot of this model is shown below. We can see that record 48, 76, 96 are possible outliers. "
   ]
  },
  {
   "cell_type": "code",
   "execution_count": 3,
   "metadata": {
    "scrolled": true
   },
   "outputs": [
    {
     "data": {
      "text/html": [
       "<table>\n",
       "<caption>A data.frame: 3 × 5</caption>\n",
       "<thead>\n",
       "\t<tr><th></th><th scope=col>BODYFAT</th><th scope=col>DENSITY</th><th scope=col>WEIGHT</th><th scope=col>HEIGHT</th><th scope=col>ADIPOSITY</th></tr>\n",
       "\t<tr><th></th><th scope=col>&lt;dbl&gt;</th><th scope=col>&lt;dbl&gt;</th><th scope=col>&lt;dbl&gt;</th><th scope=col>&lt;dbl&gt;</th><th scope=col>&lt;dbl&gt;</th></tr>\n",
       "</thead>\n",
       "<tbody>\n",
       "\t<tr><th scope=row>48</th><td> 6.4</td><td>1.0665</td><td>148.50</td><td>71.25</td><td>20.6</td></tr>\n",
       "\t<tr><th scope=row>76</th><td>18.3</td><td>1.0666</td><td>148.25</td><td>67.50</td><td>22.9</td></tr>\n",
       "\t<tr><th scope=row>96</th><td>17.3</td><td>1.0991</td><td>224.50</td><td>77.75</td><td>26.1</td></tr>\n",
       "</tbody>\n",
       "</table>\n"
      ],
      "text/latex": [
       "A data.frame: 3 × 5\n",
       "\\begin{tabular}{r|lllll}\n",
       "  & BODYFAT & DENSITY & WEIGHT & HEIGHT & ADIPOSITY\\\\\n",
       "  & <dbl> & <dbl> & <dbl> & <dbl> & <dbl>\\\\\n",
       "\\hline\n",
       "\t48 &  6.4 & 1.0665 & 148.50 & 71.25 & 20.6\\\\\n",
       "\t76 & 18.3 & 1.0666 & 148.25 & 67.50 & 22.9\\\\\n",
       "\t96 & 17.3 & 1.0991 & 224.50 & 77.75 & 26.1\\\\\n",
       "\\end{tabular}\n"
      ],
      "text/markdown": [
       "\n",
       "A data.frame: 3 × 5\n",
       "\n",
       "| <!--/--> | BODYFAT &lt;dbl&gt; | DENSITY &lt;dbl&gt; | WEIGHT &lt;dbl&gt; | HEIGHT &lt;dbl&gt; | ADIPOSITY &lt;dbl&gt; |\n",
       "|---|---|---|---|---|---|\n",
       "| 48 |  6.4 | 1.0665 | 148.50 | 71.25 | 20.6 |\n",
       "| 76 | 18.3 | 1.0666 | 148.25 | 67.50 | 22.9 |\n",
       "| 96 | 17.3 | 1.0991 | 224.50 | 77.75 | 26.1 |\n",
       "\n"
      ],
      "text/plain": [
       "   BODYFAT DENSITY WEIGHT HEIGHT ADIPOSITY\n",
       "48  6.4    1.0665  148.50 71.25  20.6     \n",
       "76 18.3    1.0666  148.25 67.50  22.9     \n",
       "96 17.3    1.0991  224.50 77.75  26.1     "
      ]
     },
     "metadata": {},
     "output_type": "display_data"
    }
   ],
   "source": [
    "BodyFatData[c(48, 76, 96),c(2,3,5:7)]"
>>>>>>> 443bd40bfa88c34d259f6b33529523e3a44bee8d
   ]
  },
  {
   "cell_type": "markdown",
   "metadata": {},
   "source": [
    "Individual 96's other variables all have normal value, which indicates his desity might be wrongly recorded.\n",
    "\n",
    "Individual 48 and 76 have similar values in other variables, thus their body fat percentage should also be similar. Thus we use the Siri's equation to fix their body fat percentage."
   ]
  },
  {
   "cell_type": "markdown",
   "metadata": {},
   "source": [
    "## Check the BMI Formula\n",
    "\n",
<<<<<<< HEAD
    "Known that the ADIPOSITY can be estimated using WEIGHT and HEIGHT. We build a linear model between the BMI estimated by equation and the ADIPOSITY in the data set. The residual plot and the QQ plot of this model is shown below. We can see that record 163, 220, 234 are possible outliers.\n",
    "\n",
    "<img src=\"plots/data3_1.png\" alt=\"Drawing\" style=\"width: 750px;\"/>"
=======
    "Known that the ADIPOSITY can be estimated using WEIGHT and HEIGHT. We build a linear model between the BMI estimated by equation and the ADIPOSITY in the data set. The residual plot and the QQ plot of this model is shown below. We can see that record 163, 220, 234 are possible outliers."
   ]
  },
  {
   "cell_type": "code",
   "execution_count": 4,
   "metadata": {},
   "outputs": [
    {
     "data": {
      "text/html": [
       "<table>\n",
       "<caption>A data.frame: 3 × 5</caption>\n",
       "<thead>\n",
       "\t<tr><th></th><th scope=col>BODYFAT</th><th scope=col>DENSITY</th><th scope=col>WEIGHT</th><th scope=col>HEIGHT</th><th scope=col>ADIPOSITY</th></tr>\n",
       "\t<tr><th></th><th scope=col>&lt;dbl&gt;</th><th scope=col>&lt;dbl&gt;</th><th scope=col>&lt;dbl&gt;</th><th scope=col>&lt;dbl&gt;</th><th scope=col>&lt;dbl&gt;</th></tr>\n",
       "</thead>\n",
       "<tbody>\n",
       "\t<tr><th scope=row>163</th><td>13.3</td><td>1.0690</td><td>184.25</td><td>68.75</td><td>24.4</td></tr>\n",
       "\t<tr><th scope=row>220</th><td>15.1</td><td>1.0646</td><td>154.50</td><td>69.25</td><td>22.7</td></tr>\n",
       "\t<tr><th scope=row>234</th><td>25.9</td><td>1.0384</td><td>161.75</td><td>67.25</td><td>25.2</td></tr>\n",
       "</tbody>\n",
       "</table>\n"
      ],
      "text/latex": [
       "A data.frame: 3 × 5\n",
       "\\begin{tabular}{r|lllll}\n",
       "  & BODYFAT & DENSITY & WEIGHT & HEIGHT & ADIPOSITY\\\\\n",
       "  & <dbl> & <dbl> & <dbl> & <dbl> & <dbl>\\\\\n",
       "\\hline\n",
       "\t163 & 13.3 & 1.0690 & 184.25 & 68.75 & 24.4\\\\\n",
       "\t220 & 15.1 & 1.0646 & 154.50 & 69.25 & 22.7\\\\\n",
       "\t234 & 25.9 & 1.0384 & 161.75 & 67.25 & 25.2\\\\\n",
       "\\end{tabular}\n"
      ],
      "text/markdown": [
       "\n",
       "A data.frame: 3 × 5\n",
       "\n",
       "| <!--/--> | BODYFAT &lt;dbl&gt; | DENSITY &lt;dbl&gt; | WEIGHT &lt;dbl&gt; | HEIGHT &lt;dbl&gt; | ADIPOSITY &lt;dbl&gt; |\n",
       "|---|---|---|---|---|---|\n",
       "| 163 | 13.3 | 1.0690 | 184.25 | 68.75 | 24.4 |\n",
       "| 220 | 15.1 | 1.0646 | 154.50 | 69.25 | 22.7 |\n",
       "| 234 | 25.9 | 1.0384 | 161.75 | 67.25 | 25.2 |\n",
       "\n"
      ],
      "text/plain": [
       "    BODYFAT DENSITY WEIGHT HEIGHT ADIPOSITY\n",
       "163 13.3    1.0690  184.25 68.75  24.4     \n",
       "220 15.1    1.0646  154.50 69.25  22.7     \n",
       "234 25.9    1.0384  161.75 67.25  25.2     "
      ]
     },
     "metadata": {},
     "output_type": "display_data"
    }
   ],
   "source": [
    "BodyFatData[c(163, 220, 234),c(2,3,5:7) ]"
>>>>>>> 443bd40bfa88c34d259f6b33529523e3a44bee8d
   ]
  },
  {
   "cell_type": "markdown",
   "metadata": {},
   "source": [
    "For individual 163, 220, and 234, their weights vary a lot, which means their BMI should not be similar to each other. Thus we adopt the calculated BMI as their ADIPOSITY."
   ]
  },
  {
   "cell_type": "markdown",
   "metadata": {},
   "source": [
    "## Data cleaning summary\n",
    " \n",
    "In conclusion:\n",
    "    \n",
    "Record **182** is filtered out because it has 0 body fat and there's no way to fix that.\n",
    "    \n",
    "The HEIGHT of record **42** is fixed according to the weight and adiposity.\n",
    "    \n",
    "The body fat of record **48** and **76** are fixed according to the density.\n",
    "    \n",
    "The adiposity of record **163**, **220**, and **234** are fixed according to the weight and height."
   ]
  },
  {
   "cell_type": "markdown",
   "metadata": {},
   "source": [
    "# Variable Selection and Statistical Modeling\n",
    "\n",
    "## Variable Selection \n",
    "### Stepwise Backward and Forward LR\n",
    "Considering there is a tradeoff between model variance and accuracy, we'd better not use all 14 predictors to establish the model. Although the mean square of error (MSE) will be small, the model itself will be unstable. Firstly, we try normal linear regression using the stepwise method to select features. We chose BIC as criterions and directions of forward and backward. The result was shown respectively."
   ]
  },
  {
   "cell_type": "code",
   "execution_count": 5,
   "metadata": {},
   "outputs": [
    {
     "data": {
      "text/plain": [
       "\n",
       "Call:\n",
       "lm(formula = BODYFAT ~ WEIGHT + ABDOMEN + FOREARM + WRIST, data = BodyFatData[, \n",
       "    c(2, 4:17)])\n",
       "\n",
       "Residuals:\n",
       "    Min      1Q  Median      3Q     Max \n",
       "-9.7502 -2.8153 -0.1421  2.8575  8.3237 \n",
       "\n",
       "Coefficients:\n",
       "             Estimate Std. Error t value Pr(>|t|)    \n",
       "(Intercept) -29.92346    6.69406  -4.470 1.19e-05 ***\n",
       "WEIGHT       -0.12382    0.02276  -5.440 1.29e-07 ***\n",
       "ABDOMEN       0.91333    0.05163  17.689  < 2e-16 ***\n",
       "FOREARM       0.42533    0.16734   2.542 0.011646 *  \n",
       "WRIST        -1.40823    0.40714  -3.459 0.000639 ***\n",
       "---\n",
       "Signif. codes:  0 ‘***’ 0.001 ‘**’ 0.01 ‘*’ 0.05 ‘.’ 0.1 ‘ ’ 1\n",
       "\n",
       "Residual standard error: 3.993 on 246 degrees of freedom\n",
       "Multiple R-squared:  0.7315,\tAdjusted R-squared:  0.7271 \n",
       "F-statistic: 167.5 on 4 and 246 DF,  p-value: < 2.2e-16\n"
      ]
     },
     "metadata": {},
     "output_type": "display_data"
    }
   ],
   "source": [
    "BodyFatData <-read.csv(\"data/CleanData.csv\")\n",
    "summary(lm(BODYFAT ~ WEIGHT + ABDOMEN + FOREARM + WRIST, data = BodyFatData[, c(2, 4:17)]))#  use backward stepwise method with BIC"
   ]
  },
  {
   "cell_type": "markdown",
   "metadata": {},
   "source": [
    "The results of backward and forward method are the same, WEIGHT, ABDOMEN, FOREARM, WRIST were chosen as predictors and they are all significant. R-square of the model is 0.736, which indicates the accuracy of the model is quite good.  However,  in the linear model, colinearity of predictors will increase the variance of model. VIF is a value to identify colinearity. There are colineary between variables if VIF is larger than 5."
   ]
  },
  {
   "cell_type": "code",
   "execution_count": 9,
   "metadata": {},
   "outputs": [
    {
     "data": {
      "text/html": [
       "<dl class=dl-horizontal>\n",
       "\t<dt>ABDOMEN</dt>\n",
       "\t\t<dd>FALSE</dd>\n",
       "\t<dt>WEIGHT</dt>\n",
       "\t\t<dd>TRUE</dd>\n",
       "\t<dt>WRIST</dt>\n",
       "\t\t<dd>FALSE</dd>\n",
       "\t<dt>FOREARM</dt>\n",
       "\t\t<dd>FALSE</dd>\n",
       "</dl>\n"
      ],
      "text/latex": [
       "\\begin{description*}\n",
       "\\item[ABDOMEN] FALSE\n",
       "\\item[WEIGHT] TRUE\n",
       "\\item[WRIST] FALSE\n",
       "\\item[FOREARM] FALSE\n",
       "\\end{description*}\n"
      ],
      "text/markdown": [
       "ABDOMEN\n",
       ":   FALSEWEIGHT\n",
       ":   TRUEWRIST\n",
       ":   FALSEFOREARM\n",
       ":   FALSE\n",
       "\n"
      ],
      "text/plain": [
       "ABDOMEN  WEIGHT   WRIST FOREARM \n",
       "  FALSE    TRUE   FALSE   FALSE "
      ]
     },
     "metadata": {},
     "output_type": "display_data"
    }
   ],
   "source": [
    "library(car)\n",
    "LR_backward<-lm(formula = BODYFAT ~ ABDOMEN + WEIGHT + WRIST + FOREARM, data = BodyFatData[, c(2,4:17)])\n",
    "vif(LR_backward)>5"
   ]
  },
  {
   "cell_type": "markdown",
   "metadata": {},
   "source": [
    "The model is still unstable, so we try other methods to do variable selection."
   ]
  },
  {
   "cell_type": "markdown",
   "metadata": {},
   "source": [
    "### Variable Selection with XGBoost\n",
    "XGBoost is an ensemble learning method with tree models. It will output the importance of variables after establishing the model. The criterion for ranking predictors is how many times the variable is chosen as the node in decision trees. The more frequent it is chosen the larger score it will get. Moreover, if the variable is chosen near root of tree, the score will has a large weight because its influence to the decision tree is large."
   ]
  },
  {
   "cell_type": "markdown",
   "metadata": {},
   "source": [
    "![](plots/xgboost.png)"
   ]
  },
  {
   "cell_type": "markdown",
   "metadata": {},
   "source": [
    "## Stable Statistical Model\n",
    "In both of our methods, we find that ABDOMEN is the most important variable among 14 predictors. WEIGHT ranks high in both methods comparing with other variables. WRIST is significant in linear stepwise model and ADIPOSITY scores high in nonlinear model. Considering the rule of thumb, we select ABDOMEN as our first variable in predicting body fat. Also, to increase the accuracy we choose another variable among WRIST, WEIGHT, ADIPOSITY as our second variable. The number of predictors are too small to use any tree model or ensemble method in machine learning. We still choose normal linear regression as our model. The colinearity are not significant between two variables, so we may not add regulization to our model. After comparing three models, we choose ABDOMEN and WEIGHT as our predictors, because it has highest R-square 0.72."
   ]
  },
  {
   "cell_type": "code",
   "execution_count": 10,
   "metadata": {},
   "outputs": [
    {
     "data": {
      "text/plain": [
       "\n",
       "Call:\n",
       "lm(formula = BODYFAT ~ ABDOMEN + WEIGHT, data = BodyFatData[, \n",
       "    c(2, 4:17)])\n",
       "\n",
       "Residuals:\n",
       "     Min       1Q   Median       3Q      Max \n",
       "-10.4921  -2.9487   0.1029   2.9113   9.7391 \n",
       "\n",
       "Coefficients:\n",
       "             Estimate Std. Error t value Pr(>|t|)    \n",
       "(Intercept) -40.67689    2.41527 -16.842  < 2e-16 ***\n",
       "ABDOMEN       0.90824    0.05222  17.392  < 2e-16 ***\n",
       "WEIGHT       -0.13642    0.01915  -7.125 1.12e-11 ***\n",
       "---\n",
       "Signif. codes:  0 ‘***’ 0.001 ‘**’ 0.01 ‘*’ 0.05 ‘.’ 0.1 ‘ ’ 1\n",
       "\n",
       "Residual standard error: 4.098 on 248 degrees of freedom\n",
       "Multiple R-squared:  0.7148,\tAdjusted R-squared:  0.7125 \n",
       "F-statistic: 310.8 on 2 and 248 DF,  p-value: < 2.2e-16\n"
      ]
     },
     "metadata": {},
     "output_type": "display_data"
    }
   ],
   "source": [
    "fit1<-lm(formula = BODYFAT ~ ABDOMEN + WEIGHT, data = BodyFatData[, c(2,4:17)])\n",
    "summary(fit1)"
   ]
  },
  {
   "cell_type": "markdown",
   "metadata": {},
   "source": [
    "## Model Diagnostics\n",
    "Firstly, use VIF to check colinearity. There is no obvious colinearity between ABDOMEN and WEIGHT."
   ]
  },
  {
   "cell_type": "code",
   "execution_count": 8,
   "metadata": {},
   "outputs": [
    {
     "data": {
      "text/html": [
       "<dl class=dl-horizontal>\n",
       "\t<dt>ABDOMEN</dt>\n",
       "\t\t<dd>FALSE</dd>\n",
       "\t<dt>WEIGHT</dt>\n",
       "\t\t<dd>FALSE</dd>\n",
       "</dl>\n"
      ],
      "text/latex": [
       "\\begin{description*}\n",
       "\\item[ABDOMEN] FALSE\n",
       "\\item[WEIGHT] FALSE\n",
       "\\end{description*}\n"
      ],
      "text/markdown": [
       "ABDOMEN\n",
       ":   FALSEWEIGHT\n",
       ":   FALSE\n",
       "\n"
      ],
      "text/plain": [
       "ABDOMEN  WEIGHT \n",
       "  FALSE   FALSE "
      ]
     },
     "metadata": {},
     "output_type": "display_data"
    }
   ],
   "source": [
    "vif(fit1)>5"
   ]
  },
  {
   "cell_type": "markdown",
   "metadata": {},
   "source": [
    "Then, plot the residuals vs fitted values. Residuals are seperated randomly near 0 and there is no correlation between fitted value and residuals. Also, there is no correlation between residuals and predictors.\n",
    "![](plots/res.png)"
   ]
  },
  {
   "cell_type": "markdown",
   "metadata": {},
   "source": [
    "QQ-plot of residuals show that residuals generally follows normal distribution. It is normal that there are still some outliers in the model.\n",
    "![](plots/outlier.png)"
   ]
  },
  {
   "cell_type": "markdown",
   "metadata": {},
   "source": [
    "# Conclusion\n",
    "\n",
    " \n",
    "## Rule of Thumb \n",
    "\n",
    "Multiply your abdomen (cm) by.\n",
    "$$ Body\\ Fat\\ \\% =  -40.77528 + 0.91797*ABDOMEN (cm) - 0.14060*WEIGHT(lbs) $$\n",
    "\n",
    "\n",
    "## Strength & Weekness\n",
    "\n",
    "Our model has the following strength:\n",
    "\n",
    "Simplicity, Robustness, and Interpretability\n",
    "\n",
    "As for the weekness:\n",
    "Only use two predictors, some information from other predictors may be ignored.\n",
    "\n",
    "# Shiny APP\n",
    "\n",
    "Based on the model above, we developed the shiny app. \n",
    "\n",
    "## Extra packages\n",
    "\n",
    "Beside the \"shiny\" package, we also used \"shinybulma\", \"grid\", \"png\", \"bs4Dash\", \"rsconnect\", \"ggplot2\", \"shinyalert\".\n",
    "\n",
    "## Function\n",
    "\n",
    "1. Body Fat calculator\n",
    "2. Size converter(kg to lbs, inch to cm)\n",
    "3. Detail information about body fat\n",
    "\n",
    "## Web-based app Link\n",
    "\n",
    "https://jiawen1014.shinyapps.io/BodyFat/\n",
    "\n",
    "# Contribution\n",
    "\n",
    "Jiawen Chen: Responsible for the web based app\n",
    "\n",
    "Chunyuan Jin: Model building and model diagnosing\n",
    "\n",
    "Han Liao: Data cleaning"
   ]
  },
  {
   "cell_type": "code",
   "execution_count": null,
   "metadata": {},
   "outputs": [],
   "source": []
  }
 ],
 "metadata": {
  "kernelspec": {
   "display_name": "R",
   "language": "R",
   "name": "ir"
  },
  "language_info": {
   "codemirror_mode": "r",
   "file_extension": ".r",
   "mimetype": "text/x-r-source",
   "name": "R",
   "pygments_lexer": "r",
<<<<<<< HEAD
   "version": "3.5.2"
=======
   "version": "3.6.0"
>>>>>>> 443bd40bfa88c34d259f6b33529523e3a44bee8d
  },
  "widgets": {
   "state": {},
   "version": "1.1.2"
  }
 },
 "nbformat": 4,
 "nbformat_minor": 2
}
